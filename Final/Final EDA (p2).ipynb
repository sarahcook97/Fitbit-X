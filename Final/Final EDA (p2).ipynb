{
 "cells": [
  {
   "cell_type": "markdown",
   "metadata": {},
   "source": [
    "# Fitbit-X EDA (Part 2)"
   ]
  },
  {
   "cell_type": "markdown",
   "metadata": {},
   "source": [
    "### IEOR $135$, Spring $2019$\n",
    "#### Adele Bloch, Sarah Cook, Daniel Hwang, Kelley Liu, Wilson Tam"
   ]
  },
  {
   "cell_type": "markdown",
   "metadata": {},
   "source": [
    "This notebook is part 2, the EDA portion of our work. "
   ]
  },
  {
   "cell_type": "markdown",
   "metadata": {},
   "source": [
    "## Table of Contents\n",
    "#### I. Cleaning\n",
    "    i. CSV Files\n",
    "        a. EDA\n",
    "    ii. JSON Files\n",
    "    \n",
    "#### II. EDA (part 2 notebook)\n",
    "    i. JSON Files\n",
    "        a. Activity\n",
    "        b. Heartrate\n",
    "        c. Calories\n",
    "        d. Sleep"
   ]
  },
  {
   "cell_type": "code",
   "execution_count": 1,
   "metadata": {},
   "outputs": [],
   "source": [
    "import pandas as pd\n",
    "import numpy as np\n",
    "import seaborn as sns\n",
    "from matplotlib import pyplot as plt\n",
    "import datetime\n",
    "import math\n",
    "import calendar\n",
    "import json\n",
    "import os"
   ]
  },
  {
   "cell_type": "code",
   "execution_count": 4,
   "metadata": {},
   "outputs": [],
   "source": [
    "temp_filenames = ['sleep.pk1','resting.pk1','cal_burned.pk1','mod_act.pk1','sed_active.pk1','alt.pk1','light_act.pk1','dist.pk1','very_active.pk1', 'activity.pk1']\n",
    "\n",
    "cleaned = []\n",
    "for i in range(len(temp_filenames)):\n",
    "    cleaned.append(pd.read_pickle('./Adele_files/cleaned/' + temp_filenames[i]))\n",
    "    "
   ]
  },
  {
   "cell_type": "markdown",
   "metadata": {},
   "source": [
    "## Activity"
   ]
  },
  {
   "cell_type": "markdown",
   "metadata": {},
   "source": [
    "### Activity Summary"
   ]
  },
  {
   "cell_type": "code",
   "execution_count": 3,
   "metadata": {},
   "outputs": [
    {
     "data": {
      "text/html": [
       "<div>\n",
       "<style scoped>\n",
       "    .dataframe tbody tr th:only-of-type {\n",
       "        vertical-align: middle;\n",
       "    }\n",
       "\n",
       "    .dataframe tbody tr th {\n",
       "        vertical-align: top;\n",
       "    }\n",
       "\n",
       "    .dataframe thead th {\n",
       "        text-align: right;\n",
       "    }\n",
       "</style>\n",
       "<table border=\"1\" class=\"dataframe\">\n",
       "  <thead>\n",
       "    <tr style=\"text-align: right;\">\n",
       "      <th></th>\n",
       "      <th>activityName</th>\n",
       "      <th>averageHeartRate</th>\n",
       "      <th>calories</th>\n",
       "      <th>distance</th>\n",
       "      <th>distanceUnit</th>\n",
       "      <th>elevationGain</th>\n",
       "      <th>logId</th>\n",
       "      <th>originalDuration</th>\n",
       "      <th>originalStartTime</th>\n",
       "      <th>pace</th>\n",
       "      <th>speed</th>\n",
       "      <th>startTime</th>\n",
       "      <th>steps</th>\n",
       "      <th>sedentary</th>\n",
       "      <th>lightly</th>\n",
       "      <th>fairly</th>\n",
       "      <th>very</th>\n",
       "    </tr>\n",
       "    <tr>\n",
       "      <th>activity summary</th>\n",
       "      <th></th>\n",
       "      <th></th>\n",
       "      <th></th>\n",
       "      <th></th>\n",
       "      <th></th>\n",
       "      <th></th>\n",
       "      <th></th>\n",
       "      <th></th>\n",
       "      <th></th>\n",
       "      <th></th>\n",
       "      <th></th>\n",
       "      <th></th>\n",
       "      <th></th>\n",
       "      <th></th>\n",
       "      <th></th>\n",
       "      <th></th>\n",
       "      <th></th>\n",
       "    </tr>\n",
       "  </thead>\n",
       "  <tbody>\n",
       "    <tr>\n",
       "      <th>0</th>\n",
       "      <td>Walk</td>\n",
       "      <td>103.0</td>\n",
       "      <td>123</td>\n",
       "      <td>NaN</td>\n",
       "      <td>NaN</td>\n",
       "      <td>0.0</td>\n",
       "      <td>14821236395</td>\n",
       "      <td>1843000</td>\n",
       "      <td>06/11/18 18:15:57</td>\n",
       "      <td>NaN</td>\n",
       "      <td>NaN</td>\n",
       "      <td>06/11/18 18:15:57</td>\n",
       "      <td>2190.0</td>\n",
       "      <td>0</td>\n",
       "      <td>14</td>\n",
       "      <td>16</td>\n",
       "      <td>0</td>\n",
       "    </tr>\n",
       "    <tr>\n",
       "      <th>1</th>\n",
       "      <td>Walk</td>\n",
       "      <td>102.0</td>\n",
       "      <td>287</td>\n",
       "      <td>NaN</td>\n",
       "      <td>NaN</td>\n",
       "      <td>20.0</td>\n",
       "      <td>14821236396</td>\n",
       "      <td>3942000</td>\n",
       "      <td>06/11/18 19:29:20</td>\n",
       "      <td>NaN</td>\n",
       "      <td>NaN</td>\n",
       "      <td>06/11/18 19:29:20</td>\n",
       "      <td>5299.0</td>\n",
       "      <td>5</td>\n",
       "      <td>9</td>\n",
       "      <td>47</td>\n",
       "      <td>4</td>\n",
       "    </tr>\n",
       "    <tr>\n",
       "      <th>2</th>\n",
       "      <td>Walk</td>\n",
       "      <td>100.0</td>\n",
       "      <td>184</td>\n",
       "      <td>NaN</td>\n",
       "      <td>NaN</td>\n",
       "      <td>0.0</td>\n",
       "      <td>14836427357</td>\n",
       "      <td>3072000</td>\n",
       "      <td>06/12/18 08:42:05</td>\n",
       "      <td>NaN</td>\n",
       "      <td>NaN</td>\n",
       "      <td>06/12/18 08:42:05</td>\n",
       "      <td>3022.0</td>\n",
       "      <td>5</td>\n",
       "      <td>31</td>\n",
       "      <td>14</td>\n",
       "      <td>1</td>\n",
       "    </tr>\n",
       "    <tr>\n",
       "      <th>3</th>\n",
       "      <td>Walk</td>\n",
       "      <td>110.0</td>\n",
       "      <td>165</td>\n",
       "      <td>NaN</td>\n",
       "      <td>NaN</td>\n",
       "      <td>10.0</td>\n",
       "      <td>14836427362</td>\n",
       "      <td>2304000</td>\n",
       "      <td>06/12/18 11:48:07</td>\n",
       "      <td>NaN</td>\n",
       "      <td>NaN</td>\n",
       "      <td>06/12/18 11:48:07</td>\n",
       "      <td>2931.0</td>\n",
       "      <td>0</td>\n",
       "      <td>11</td>\n",
       "      <td>26</td>\n",
       "      <td>1</td>\n",
       "    </tr>\n",
       "    <tr>\n",
       "      <th>4</th>\n",
       "      <td>Walk</td>\n",
       "      <td>105.0</td>\n",
       "      <td>148</td>\n",
       "      <td>NaN</td>\n",
       "      <td>NaN</td>\n",
       "      <td>50.0</td>\n",
       "      <td>14836427365</td>\n",
       "      <td>2151000</td>\n",
       "      <td>06/12/18 12:58:05</td>\n",
       "      <td>NaN</td>\n",
       "      <td>NaN</td>\n",
       "      <td>06/12/18 12:58:05</td>\n",
       "      <td>2585.0</td>\n",
       "      <td>1</td>\n",
       "      <td>15</td>\n",
       "      <td>18</td>\n",
       "      <td>1</td>\n",
       "    </tr>\n",
       "  </tbody>\n",
       "</table>\n",
       "</div>"
      ],
      "text/plain": [
       "                 activityName  averageHeartRate  calories  distance  \\\n",
       "activity summary                                                      \n",
       "0                        Walk             103.0       123       NaN   \n",
       "1                        Walk             102.0       287       NaN   \n",
       "2                        Walk             100.0       184       NaN   \n",
       "3                        Walk             110.0       165       NaN   \n",
       "4                        Walk             105.0       148       NaN   \n",
       "\n",
       "                 distanceUnit  elevationGain        logId  originalDuration  \\\n",
       "activity summary                                                              \n",
       "0                         NaN            0.0  14821236395           1843000   \n",
       "1                         NaN           20.0  14821236396           3942000   \n",
       "2                         NaN            0.0  14836427357           3072000   \n",
       "3                         NaN           10.0  14836427362           2304000   \n",
       "4                         NaN           50.0  14836427365           2151000   \n",
       "\n",
       "                  originalStartTime  pace  speed          startTime   steps  \\\n",
       "activity summary                                                              \n",
       "0                 06/11/18 18:15:57   NaN    NaN  06/11/18 18:15:57  2190.0   \n",
       "1                 06/11/18 19:29:20   NaN    NaN  06/11/18 19:29:20  5299.0   \n",
       "2                 06/12/18 08:42:05   NaN    NaN  06/12/18 08:42:05  3022.0   \n",
       "3                 06/12/18 11:48:07   NaN    NaN  06/12/18 11:48:07  2931.0   \n",
       "4                 06/12/18 12:58:05   NaN    NaN  06/12/18 12:58:05  2585.0   \n",
       "\n",
       "                  sedentary  lightly  fairly  very  \n",
       "activity summary                                    \n",
       "0                         0       14      16     0  \n",
       "1                         5        9      47     4  \n",
       "2                         5       31      14     1  \n",
       "3                         0       11      26     1  \n",
       "4                         1       15      18     1  "
      ]
     },
     "execution_count": 3,
     "metadata": {},
     "output_type": "execute_result"
    }
   ],
   "source": [
    "activity = cleaned[9]\n",
    "activity.head()"
   ]
  },
  {
   "cell_type": "markdown",
   "metadata": {},
   "source": [
    "Columns [distance, distanceUnit, pace,speed] all have at least 94% of values as NaN, so they will be dropped \n"
   ]
  },
  {
   "cell_type": "code",
   "execution_count": 4,
   "metadata": {},
   "outputs": [
    {
     "data": {
      "text/html": [
       "<div>\n",
       "<style scoped>\n",
       "    .dataframe tbody tr th:only-of-type {\n",
       "        vertical-align: middle;\n",
       "    }\n",
       "\n",
       "    .dataframe tbody tr th {\n",
       "        vertical-align: top;\n",
       "    }\n",
       "\n",
       "    .dataframe thead th {\n",
       "        text-align: right;\n",
       "    }\n",
       "</style>\n",
       "<table border=\"1\" class=\"dataframe\">\n",
       "  <thead>\n",
       "    <tr style=\"text-align: right;\">\n",
       "      <th></th>\n",
       "      <th>activityName</th>\n",
       "      <th>averageHeartRate</th>\n",
       "      <th>calories</th>\n",
       "      <th>elevationGain</th>\n",
       "      <th>logId</th>\n",
       "      <th>originalDuration</th>\n",
       "      <th>originalStartTime</th>\n",
       "      <th>startTime</th>\n",
       "      <th>steps</th>\n",
       "      <th>sedentary</th>\n",
       "      <th>lightly</th>\n",
       "      <th>fairly</th>\n",
       "      <th>very</th>\n",
       "    </tr>\n",
       "    <tr>\n",
       "      <th>activity summary</th>\n",
       "      <th></th>\n",
       "      <th></th>\n",
       "      <th></th>\n",
       "      <th></th>\n",
       "      <th></th>\n",
       "      <th></th>\n",
       "      <th></th>\n",
       "      <th></th>\n",
       "      <th></th>\n",
       "      <th></th>\n",
       "      <th></th>\n",
       "      <th></th>\n",
       "      <th></th>\n",
       "    </tr>\n",
       "  </thead>\n",
       "  <tbody>\n",
       "    <tr>\n",
       "      <th>0</th>\n",
       "      <td>Walk</td>\n",
       "      <td>103.0</td>\n",
       "      <td>123</td>\n",
       "      <td>0.0</td>\n",
       "      <td>14821236395</td>\n",
       "      <td>1843000</td>\n",
       "      <td>06/11/18 18:15:57</td>\n",
       "      <td>06/11/18 18:15:57</td>\n",
       "      <td>2190.0</td>\n",
       "      <td>0</td>\n",
       "      <td>14</td>\n",
       "      <td>16</td>\n",
       "      <td>0</td>\n",
       "    </tr>\n",
       "    <tr>\n",
       "      <th>1</th>\n",
       "      <td>Walk</td>\n",
       "      <td>102.0</td>\n",
       "      <td>287</td>\n",
       "      <td>20.0</td>\n",
       "      <td>14821236396</td>\n",
       "      <td>3942000</td>\n",
       "      <td>06/11/18 19:29:20</td>\n",
       "      <td>06/11/18 19:29:20</td>\n",
       "      <td>5299.0</td>\n",
       "      <td>5</td>\n",
       "      <td>9</td>\n",
       "      <td>47</td>\n",
       "      <td>4</td>\n",
       "    </tr>\n",
       "    <tr>\n",
       "      <th>2</th>\n",
       "      <td>Walk</td>\n",
       "      <td>100.0</td>\n",
       "      <td>184</td>\n",
       "      <td>0.0</td>\n",
       "      <td>14836427357</td>\n",
       "      <td>3072000</td>\n",
       "      <td>06/12/18 08:42:05</td>\n",
       "      <td>06/12/18 08:42:05</td>\n",
       "      <td>3022.0</td>\n",
       "      <td>5</td>\n",
       "      <td>31</td>\n",
       "      <td>14</td>\n",
       "      <td>1</td>\n",
       "    </tr>\n",
       "    <tr>\n",
       "      <th>3</th>\n",
       "      <td>Walk</td>\n",
       "      <td>110.0</td>\n",
       "      <td>165</td>\n",
       "      <td>10.0</td>\n",
       "      <td>14836427362</td>\n",
       "      <td>2304000</td>\n",
       "      <td>06/12/18 11:48:07</td>\n",
       "      <td>06/12/18 11:48:07</td>\n",
       "      <td>2931.0</td>\n",
       "      <td>0</td>\n",
       "      <td>11</td>\n",
       "      <td>26</td>\n",
       "      <td>1</td>\n",
       "    </tr>\n",
       "    <tr>\n",
       "      <th>4</th>\n",
       "      <td>Walk</td>\n",
       "      <td>105.0</td>\n",
       "      <td>148</td>\n",
       "      <td>50.0</td>\n",
       "      <td>14836427365</td>\n",
       "      <td>2151000</td>\n",
       "      <td>06/12/18 12:58:05</td>\n",
       "      <td>06/12/18 12:58:05</td>\n",
       "      <td>2585.0</td>\n",
       "      <td>1</td>\n",
       "      <td>15</td>\n",
       "      <td>18</td>\n",
       "      <td>1</td>\n",
       "    </tr>\n",
       "  </tbody>\n",
       "</table>\n",
       "</div>"
      ],
      "text/plain": [
       "                 activityName  averageHeartRate  calories  elevationGain  \\\n",
       "activity summary                                                           \n",
       "0                        Walk             103.0       123            0.0   \n",
       "1                        Walk             102.0       287           20.0   \n",
       "2                        Walk             100.0       184            0.0   \n",
       "3                        Walk             110.0       165           10.0   \n",
       "4                        Walk             105.0       148           50.0   \n",
       "\n",
       "                        logId  originalDuration  originalStartTime  \\\n",
       "activity summary                                                     \n",
       "0                 14821236395           1843000  06/11/18 18:15:57   \n",
       "1                 14821236396           3942000  06/11/18 19:29:20   \n",
       "2                 14836427357           3072000  06/12/18 08:42:05   \n",
       "3                 14836427362           2304000  06/12/18 11:48:07   \n",
       "4                 14836427365           2151000  06/12/18 12:58:05   \n",
       "\n",
       "                          startTime   steps  sedentary  lightly  fairly  very  \n",
       "activity summary                                                               \n",
       "0                 06/11/18 18:15:57  2190.0          0       14      16     0  \n",
       "1                 06/11/18 19:29:20  5299.0          5        9      47     4  \n",
       "2                 06/12/18 08:42:05  3022.0          5       31      14     1  \n",
       "3                 06/12/18 11:48:07  2931.0          0       11      26     1  \n",
       "4                 06/12/18 12:58:05  2585.0          1       15      18     1  "
      ]
     },
     "execution_count": 4,
     "metadata": {},
     "output_type": "execute_result"
    }
   ],
   "source": [
    "activity2 = activity.drop(columns=['distance', 'distanceUnit', 'pace', 'speed'])\n",
    "activity2.head()"
   ]
  },
  {
   "cell_type": "code",
   "execution_count": 5,
   "metadata": {},
   "outputs": [],
   "source": [
    "#average Heart Rate vs Top 3 Activity EDA\n",
    "#there are NaN values in the averageHeartRate table, so we are dropping those rows temporarily \n",
    "activity2 = activity[activity['averageHeartRate'].isna()==False]"
   ]
  },
  {
   "cell_type": "code",
   "execution_count": 7,
   "metadata": {},
   "outputs": [],
   "source": [
    "# get all unique activities \n",
    "unique_activities = activity2['activityName'].unique()\n",
    "#after first printing multiple x's we are storing the number of rows for each unique activity  \n",
    "activity_length = {}\n",
    "for x in unique_activities:\n",
    "    activity_length[x]= len(activity2[activity2['activityName']==x])\n",
    "# we will get top 3 activities \n",
    "def gettop3values(activitydictionary):\n",
    "    max3 = []  \n",
    "    for i in range(0,3):\n",
    "        max_value = max(activitydictionary.values())\n",
    "        max_keys = [k for k, v in activitydictionary.items() if v == max_value]\n",
    "        max3.extend(max_keys)\n",
    "        activitydictionary.pop(max_keys[0])\n",
    "    return max3 \n",
    "        \n",
    "top_activities = gettop3values(activity_length)"
   ]
  },
  {
   "cell_type": "code",
   "execution_count": 8,
   "metadata": {},
   "outputs": [
    {
     "data": {
      "text/plain": [
       "['Walk', 'Run', 'Aerobic Workout']"
      ]
     },
     "execution_count": 8,
     "metadata": {},
     "output_type": "execute_result"
    }
   ],
   "source": [
    "top_activities"
   ]
  },
  {
   "cell_type": "markdown",
   "metadata": {},
   "source": [
    "#### Plotting distributions of heartrate and top 3 activities"
   ]
  },
  {
   "cell_type": "code",
   "execution_count": 10,
   "metadata": {},
   "outputs": [
    {
     "name": "stderr",
     "output_type": "stream",
     "text": [
      "/Users/kelleyliu/anaconda3/envs/data-x/lib/python3.6/site-packages/scipy/stats/stats.py:1713: FutureWarning: Using a non-tuple sequence for multidimensional indexing is deprecated; use `arr[tuple(seq)]` instead of `arr[seq]`. In the future this will be interpreted as an array index, `arr[np.array(seq)]`, which will result either in an error or a different result.\n",
      "  return np.add.reduce(sorted[indexer] * weights, axis=axis) / sumval\n"
     ]
    },
    {
     "data": {
      "image/png": "[encoded data removed]",
      "text/plain": [
       "<Figure size 864x576 with 1 Axes>"
      ]
     },
     "metadata": {
      "needs_background": "light"
     },
     "output_type": "display_data"
    }
   ],
   "source": [
    "# get a list of dataframes only containing rows with respective activity from top activity \n",
    "hrtables=[]\n",
    "hri=0\n",
    "for x in top_activities:\n",
    "    tablex = activity2[activity2['activityName']==x]\n",
    "    hrtables.append(tablex)\n",
    "# plot the distribution of heart rates for top 3 activities \n",
    "plt.figure(figsize=(12,8))\n",
    "for x in hrtables:\n",
    "    sns.distplot(x['averageHeartRate'], label=top_activities[hri])\n",
    "    hri+=1\n",
    "plt.legend();"
   ]
  },
  {
   "cell_type": "markdown",
   "metadata": {},
   "source": [
    "#### Plotting distributions of calories burned and top 3 activities"
   ]
  },
  {
   "cell_type": "code",
   "execution_count": 12,
   "metadata": {},
   "outputs": [
    {
     "data": {
      "image/png": "[encoded data removed]",
      "text/plain": [
       "<Figure size 864x576 with 1 Axes>"
      ]
     },
     "metadata": {
      "needs_background": "light"
     },
     "output_type": "display_data"
    }
   ],
   "source": [
    "# we will do the same thing as above, but for calories and top 3 activities \n",
    "activity3 = activity[activity['calories'].isna()==False]\n",
    "caltables=[]\n",
    "cali=0\n",
    "for x in top_activities:\n",
    "    tablex = activity3[activity3['activityName']==x]\n",
    "    caltables.append(tablex)\n",
    "# plot the distribution of heart rates for top 3 activities \n",
    "plt.figure(figsize=(12,8))\n",
    "for x in caltables:\n",
    "    sns.distplot(x['calories'], label=top_activities[cali])\n",
    "    cali+=1\n",
    "plt.legend();"
   ]
  },
  {
   "cell_type": "markdown",
   "metadata": {},
   "source": [
    "### Active Minutes"
   ]
  },
  {
   "cell_type": "code",
   "execution_count": 72,
   "metadata": {},
   "outputs": [
    {
     "data": {
      "text/html": [
       "<div>\n",
       "<style scoped>\n",
       "    .dataframe tbody tr th:only-of-type {\n",
       "        vertical-align: middle;\n",
       "    }\n",
       "\n",
       "    .dataframe tbody tr th {\n",
       "        vertical-align: top;\n",
       "    }\n",
       "\n",
       "    .dataframe thead th {\n",
       "        text-align: right;\n",
       "    }\n",
       "</style>\n",
       "<table border=\"1\" class=\"dataframe\">\n",
       "  <thead>\n",
       "    <tr style=\"text-align: right;\">\n",
       "      <th></th>\n",
       "      <th>dateTime</th>\n",
       "      <th>very active min</th>\n",
       "      <th>Day of Week</th>\n",
       "      <th>Is Weekend</th>\n",
       "      <th>Month</th>\n",
       "      <th>Day</th>\n",
       "      <th>Year</th>\n",
       "    </tr>\n",
       "    <tr>\n",
       "      <th>very active min</th>\n",
       "      <th></th>\n",
       "      <th></th>\n",
       "      <th></th>\n",
       "      <th></th>\n",
       "      <th></th>\n",
       "      <th></th>\n",
       "      <th></th>\n",
       "    </tr>\n",
       "  </thead>\n",
       "  <tbody>\n",
       "    <tr>\n",
       "      <th>0</th>\n",
       "      <td>06/28/17 00:00:00</td>\n",
       "      <td>94</td>\n",
       "      <td>2</td>\n",
       "      <td>False</td>\n",
       "      <td>6</td>\n",
       "      <td>28</td>\n",
       "      <td>2017</td>\n",
       "    </tr>\n",
       "    <tr>\n",
       "      <th>1</th>\n",
       "      <td>06/29/17 00:00:00</td>\n",
       "      <td>37</td>\n",
       "      <td>3</td>\n",
       "      <td>False</td>\n",
       "      <td>6</td>\n",
       "      <td>29</td>\n",
       "      <td>2017</td>\n",
       "    </tr>\n",
       "    <tr>\n",
       "      <th>2</th>\n",
       "      <td>06/30/17 00:00:00</td>\n",
       "      <td>15</td>\n",
       "      <td>4</td>\n",
       "      <td>False</td>\n",
       "      <td>6</td>\n",
       "      <td>30</td>\n",
       "      <td>2017</td>\n",
       "    </tr>\n",
       "    <tr>\n",
       "      <th>3</th>\n",
       "      <td>07/01/17 00:00:00</td>\n",
       "      <td>98</td>\n",
       "      <td>5</td>\n",
       "      <td>False</td>\n",
       "      <td>7</td>\n",
       "      <td>1</td>\n",
       "      <td>2017</td>\n",
       "    </tr>\n",
       "    <tr>\n",
       "      <th>4</th>\n",
       "      <td>07/02/17 00:00:00</td>\n",
       "      <td>26</td>\n",
       "      <td>6</td>\n",
       "      <td>True</td>\n",
       "      <td>7</td>\n",
       "      <td>2</td>\n",
       "      <td>2017</td>\n",
       "    </tr>\n",
       "  </tbody>\n",
       "</table>\n",
       "</div>"
      ],
      "text/plain": [
       "                          dateTime very active min  Day of Week  Is Weekend  \\\n",
       "very active min                                                               \n",
       "0                06/28/17 00:00:00              94            2       False   \n",
       "1                06/29/17 00:00:00              37            3       False   \n",
       "2                06/30/17 00:00:00              15            4       False   \n",
       "3                07/01/17 00:00:00              98            5       False   \n",
       "4                07/02/17 00:00:00              26            6        True   \n",
       "\n",
       "                 Month  Day  Year  \n",
       "very active min                    \n",
       "0                    6   28  2017  \n",
       "1                    6   29  2017  \n",
       "2                    6   30  2017  \n",
       "3                    7    1  2017  \n",
       "4                    7    2  2017  "
      ]
     },
     "execution_count": 72,
     "metadata": {},
     "output_type": "execute_result"
    }
   ],
   "source": [
    "very = cleaned[8]\n",
    "very.head()"
   ]
  },
  {
   "cell_type": "code",
   "execution_count": 36,
   "metadata": {},
   "outputs": [
    {
     "data": {
      "text/html": [
       "<div>\n",
       "<style scoped>\n",
       "    .dataframe tbody tr th:only-of-type {\n",
       "        vertical-align: middle;\n",
       "    }\n",
       "\n",
       "    .dataframe tbody tr th {\n",
       "        vertical-align: top;\n",
       "    }\n",
       "\n",
       "    .dataframe thead th {\n",
       "        text-align: right;\n",
       "    }\n",
       "</style>\n",
       "<table border=\"1\" class=\"dataframe\">\n",
       "  <thead>\n",
       "    <tr style=\"text-align: right;\">\n",
       "      <th></th>\n",
       "      <th>dateTime</th>\n",
       "      <th>lightly active min</th>\n",
       "      <th>Day of Week</th>\n",
       "      <th>Is Weekend</th>\n",
       "      <th>Month</th>\n",
       "      <th>Day</th>\n",
       "      <th>Year</th>\n",
       "    </tr>\n",
       "    <tr>\n",
       "      <th>lightly active min</th>\n",
       "      <th></th>\n",
       "      <th></th>\n",
       "      <th></th>\n",
       "      <th></th>\n",
       "      <th></th>\n",
       "      <th></th>\n",
       "      <th></th>\n",
       "    </tr>\n",
       "  </thead>\n",
       "  <tbody>\n",
       "    <tr>\n",
       "      <th>0</th>\n",
       "      <td>12/20/18 00:00:00</td>\n",
       "      <td>226</td>\n",
       "      <td>3</td>\n",
       "      <td>False</td>\n",
       "      <td>12</td>\n",
       "      <td>20</td>\n",
       "      <td>2018</td>\n",
       "    </tr>\n",
       "    <tr>\n",
       "      <th>1</th>\n",
       "      <td>12/21/18 00:00:00</td>\n",
       "      <td>240</td>\n",
       "      <td>4</td>\n",
       "      <td>False</td>\n",
       "      <td>12</td>\n",
       "      <td>21</td>\n",
       "      <td>2018</td>\n",
       "    </tr>\n",
       "    <tr>\n",
       "      <th>2</th>\n",
       "      <td>12/22/18 00:00:00</td>\n",
       "      <td>317</td>\n",
       "      <td>5</td>\n",
       "      <td>False</td>\n",
       "      <td>12</td>\n",
       "      <td>22</td>\n",
       "      <td>2018</td>\n",
       "    </tr>\n",
       "    <tr>\n",
       "      <th>3</th>\n",
       "      <td>12/23/18 00:00:00</td>\n",
       "      <td>277</td>\n",
       "      <td>6</td>\n",
       "      <td>True</td>\n",
       "      <td>12</td>\n",
       "      <td>23</td>\n",
       "      <td>2018</td>\n",
       "    </tr>\n",
       "    <tr>\n",
       "      <th>4</th>\n",
       "      <td>12/24/18 00:00:00</td>\n",
       "      <td>377</td>\n",
       "      <td>0</td>\n",
       "      <td>True</td>\n",
       "      <td>12</td>\n",
       "      <td>24</td>\n",
       "      <td>2018</td>\n",
       "    </tr>\n",
       "  </tbody>\n",
       "</table>\n",
       "</div>"
      ],
      "text/plain": [
       "                             dateTime lightly active min  Day of Week  \\\n",
       "lightly active min                                                      \n",
       "0                   12/20/18 00:00:00                226            3   \n",
       "1                   12/21/18 00:00:00                240            4   \n",
       "2                   12/22/18 00:00:00                317            5   \n",
       "3                   12/23/18 00:00:00                277            6   \n",
       "4                   12/24/18 00:00:00                377            0   \n",
       "\n",
       "                    Is Weekend  Month  Day  Year  \n",
       "lightly active min                                \n",
       "0                        False     12   20  2018  \n",
       "1                        False     12   21  2018  \n",
       "2                        False     12   22  2018  \n",
       "3                         True     12   23  2018  \n",
       "4                         True     12   24  2018  "
      ]
     },
     "execution_count": 36,
     "metadata": {},
     "output_type": "execute_result"
    }
   ],
   "source": [
    "light_active = cleaned[6]\n",
    "light_active.head()"
   ]
  },
  {
   "cell_type": "code",
   "execution_count": 41,
   "metadata": {},
   "outputs": [
    {
     "data": {
      "text/html": [
       "<div>\n",
       "<style scoped>\n",
       "    .dataframe tbody tr th:only-of-type {\n",
       "        vertical-align: middle;\n",
       "    }\n",
       "\n",
       "    .dataframe tbody tr th {\n",
       "        vertical-align: top;\n",
       "    }\n",
       "\n",
       "    .dataframe thead th {\n",
       "        text-align: right;\n",
       "    }\n",
       "</style>\n",
       "<table border=\"1\" class=\"dataframe\">\n",
       "  <thead>\n",
       "    <tr style=\"text-align: right;\">\n",
       "      <th></th>\n",
       "      <th>dateTime</th>\n",
       "      <th>sedentary min</th>\n",
       "      <th>Day of Week</th>\n",
       "      <th>Is Weekend</th>\n",
       "      <th>Month</th>\n",
       "      <th>Day</th>\n",
       "      <th>Year</th>\n",
       "    </tr>\n",
       "    <tr>\n",
       "      <th>sedentary min</th>\n",
       "      <th></th>\n",
       "      <th></th>\n",
       "      <th></th>\n",
       "      <th></th>\n",
       "      <th></th>\n",
       "      <th></th>\n",
       "      <th></th>\n",
       "    </tr>\n",
       "  </thead>\n",
       "  <tbody>\n",
       "    <tr>\n",
       "      <th>0</th>\n",
       "      <td>04/24/18 00:00:00</td>\n",
       "      <td>603</td>\n",
       "      <td>1</td>\n",
       "      <td>False</td>\n",
       "      <td>4</td>\n",
       "      <td>24</td>\n",
       "      <td>2018</td>\n",
       "    </tr>\n",
       "    <tr>\n",
       "      <th>1</th>\n",
       "      <td>04/25/18 00:00:00</td>\n",
       "      <td>568</td>\n",
       "      <td>2</td>\n",
       "      <td>False</td>\n",
       "      <td>4</td>\n",
       "      <td>25</td>\n",
       "      <td>2018</td>\n",
       "    </tr>\n",
       "    <tr>\n",
       "      <th>2</th>\n",
       "      <td>04/26/18 00:00:00</td>\n",
       "      <td>1049</td>\n",
       "      <td>3</td>\n",
       "      <td>False</td>\n",
       "      <td>4</td>\n",
       "      <td>26</td>\n",
       "      <td>2018</td>\n",
       "    </tr>\n",
       "    <tr>\n",
       "      <th>3</th>\n",
       "      <td>04/27/18 00:00:00</td>\n",
       "      <td>566</td>\n",
       "      <td>4</td>\n",
       "      <td>False</td>\n",
       "      <td>4</td>\n",
       "      <td>27</td>\n",
       "      <td>2018</td>\n",
       "    </tr>\n",
       "    <tr>\n",
       "      <th>4</th>\n",
       "      <td>04/28/18 00:00:00</td>\n",
       "      <td>590</td>\n",
       "      <td>5</td>\n",
       "      <td>False</td>\n",
       "      <td>4</td>\n",
       "      <td>28</td>\n",
       "      <td>2018</td>\n",
       "    </tr>\n",
       "  </tbody>\n",
       "</table>\n",
       "</div>"
      ],
      "text/plain": [
       "                        dateTime sedentary min  Day of Week  Is Weekend  \\\n",
       "sedentary min                                                             \n",
       "0              04/24/18 00:00:00           603            1       False   \n",
       "1              04/25/18 00:00:00           568            2       False   \n",
       "2              04/26/18 00:00:00          1049            3       False   \n",
       "3              04/27/18 00:00:00           566            4       False   \n",
       "4              04/28/18 00:00:00           590            5       False   \n",
       "\n",
       "               Month  Day  Year  \n",
       "sedentary min                    \n",
       "0                  4   24  2018  \n",
       "1                  4   25  2018  \n",
       "2                  4   26  2018  \n",
       "3                  4   27  2018  \n",
       "4                  4   28  2018  "
      ]
     },
     "execution_count": 41,
     "metadata": {},
     "output_type": "execute_result"
    }
   ],
   "source": [
    "sed_min = cleaned[4]\n",
    "sed_min.head()"
   ]
  },
  {
   "cell_type": "code",
   "execution_count": 38,
   "metadata": {},
   "outputs": [
    {
     "data": {
      "text/html": [
       "<div>\n",
       "<style scoped>\n",
       "    .dataframe tbody tr th:only-of-type {\n",
       "        vertical-align: middle;\n",
       "    }\n",
       "\n",
       "    .dataframe tbody tr th {\n",
       "        vertical-align: top;\n",
       "    }\n",
       "\n",
       "    .dataframe thead th {\n",
       "        text-align: right;\n",
       "    }\n",
       "</style>\n",
       "<table border=\"1\" class=\"dataframe\">\n",
       "  <thead>\n",
       "    <tr style=\"text-align: right;\">\n",
       "      <th></th>\n",
       "      <th>dateTime</th>\n",
       "      <th>moderately active min</th>\n",
       "      <th>Day of Week</th>\n",
       "      <th>Is Weekend</th>\n",
       "      <th>Month</th>\n",
       "      <th>Day</th>\n",
       "      <th>Year</th>\n",
       "      <th>datetime</th>\n",
       "    </tr>\n",
       "  </thead>\n",
       "  <tbody>\n",
       "    <tr>\n",
       "      <th>0</th>\n",
       "      <td>02/18/19 00:00:00</td>\n",
       "      <td>28</td>\n",
       "      <td>0</td>\n",
       "      <td>True</td>\n",
       "      <td>2</td>\n",
       "      <td>18</td>\n",
       "      <td>2019</td>\n",
       "      <td>0019-02-18</td>\n",
       "    </tr>\n",
       "    <tr>\n",
       "      <th>1</th>\n",
       "      <td>02/19/19 00:00:00</td>\n",
       "      <td>53</td>\n",
       "      <td>1</td>\n",
       "      <td>False</td>\n",
       "      <td>2</td>\n",
       "      <td>19</td>\n",
       "      <td>2019</td>\n",
       "      <td>0019-02-19</td>\n",
       "    </tr>\n",
       "    <tr>\n",
       "      <th>2</th>\n",
       "      <td>02/20/19 00:00:00</td>\n",
       "      <td>52</td>\n",
       "      <td>2</td>\n",
       "      <td>False</td>\n",
       "      <td>2</td>\n",
       "      <td>20</td>\n",
       "      <td>2019</td>\n",
       "      <td>0019-02-20</td>\n",
       "    </tr>\n",
       "    <tr>\n",
       "      <th>3</th>\n",
       "      <td>02/21/19 00:00:00</td>\n",
       "      <td>36</td>\n",
       "      <td>3</td>\n",
       "      <td>False</td>\n",
       "      <td>2</td>\n",
       "      <td>21</td>\n",
       "      <td>2019</td>\n",
       "      <td>0019-02-21</td>\n",
       "    </tr>\n",
       "    <tr>\n",
       "      <th>4</th>\n",
       "      <td>02/22/19 00:00:00</td>\n",
       "      <td>37</td>\n",
       "      <td>4</td>\n",
       "      <td>False</td>\n",
       "      <td>2</td>\n",
       "      <td>22</td>\n",
       "      <td>2019</td>\n",
       "      <td>0019-02-22</td>\n",
       "    </tr>\n",
       "  </tbody>\n",
       "</table>\n",
       "</div>"
      ],
      "text/plain": [
       "            dateTime  moderately active min  Day of Week  Is Weekend  Month  \\\n",
       "0  02/18/19 00:00:00                     28            0        True      2   \n",
       "1  02/19/19 00:00:00                     53            1       False      2   \n",
       "2  02/20/19 00:00:00                     52            2       False      2   \n",
       "3  02/21/19 00:00:00                     36            3       False      2   \n",
       "4  02/22/19 00:00:00                     37            4       False      2   \n",
       "\n",
       "   Day  Year    datetime  \n",
       "0   18  2019  0019-02-18  \n",
       "1   19  2019  0019-02-19  \n",
       "2   20  2019  0019-02-20  \n",
       "3   21  2019  0019-02-21  \n",
       "4   22  2019  0019-02-22  "
      ]
     },
     "execution_count": 38,
     "metadata": {},
     "output_type": "execute_result"
    }
   ],
   "source": [
    "mod_active.head()"
   ]
  },
  {
   "cell_type": "markdown",
   "metadata": {},
   "source": [
    "#### Active Minute Insights"
   ]
  },
  {
   "cell_type": "code",
   "execution_count": 27,
   "metadata": {},
   "outputs": [],
   "source": [
    "#A function to plot different information on active minutes\n",
    "def active_minutes_info(table):\n",
    "    table.iloc[:, 1] = pd.to_numeric(table.iloc[:, 1])\n",
    "\n",
    "    grouped = table.groupby(\"Day of Week\").mean().reset_index()\n",
    "    if table.columns[1].split(\" \")[-2] == \"active\": \n",
    "        word = table.columns[1].split(\" \")[0] + \" \" + table.columns[1].split(\" \")[1]\n",
    "    else: \n",
    "        word = table.columns[1].split(\" \")[0]\n",
    "    most = grouped[grouped.iloc[:, 1] == max(grouped.iloc[:, 1])].reset_index()[\"Day of Week\"].iloc[0]\n",
    "    least = grouped[grouped.iloc[:, 1] == min(grouped.iloc[:, 1])].reset_index()[\"Day of Week\"].iloc[0]\n",
    "    weekdays = [\"Sunday\", \"Monday\", \"Tuesday\", \"Wednesday\", \"Thursday\", \"Friday\", \"Saturday\"]\n",
    "    print(\"On average, you are the most \" + \"'\" + word + \"'\" + \" on \" + weekdays[most] + \"s, and the least \" + \"'\" + word + \"'\" + \" on \" + weekdays[least] + \"s!\")\n",
    "\n",
    "    weekend = table[table[\"Is Weekend\"] == True].mean()[0]\n",
    "    weekday = table[table[\"Is Weekend\"] == False].mean()[0]\n",
    "    print(\"On average, you do \" + str(round(weekday)) + \" \" + \"'\" + word + \"'\" + \" minutes on weekdays, and \" + str(round(weekend)) + \" \" + \"'\" + word + \"'\" + \" minutes on weekends. That's a \" + str(round(abs(weekday - weekend))) + \" minute difference on average!\")\n",
    "\n",
    "    days = [\"Sunday\", \"Monday\", \"Tuesday\", \"Wednesday\", \"Thursday\", \"Friday\", \"Saturday\"]\n",
    "    plt.title(\"Average \" + \"'\" + word + \"'\" + \" For Each Day of Week\")\n",
    "    ax = sns.barplot(x = \"Day of Week\", y = grouped.columns[1], data=grouped)\n",
    "    plt.figure(figsize = (10, 6))\n",
    "    ax.set_xticklabels(days, rotation='45', fontsize=10)"
   ]
  },
  {
   "cell_type": "markdown",
   "metadata": {},
   "source": [
    "#### Very Active Minutes"
   ]
  },
  {
   "cell_type": "code",
   "execution_count": 30,
   "metadata": {},
   "outputs": [
    {
     "name": "stdout",
     "output_type": "stream",
     "text": [
      "On average, you are the most 'very active' on Mondays, and the least 'very active' on Wednesdays!\n",
      "On average, you do 49.0 'very active' minutes on weekdays, and 44.0 'very active' minutes on weekends. That's a 5.0 minute difference on average!\n"
     ]
    },
    {
     "data": {
      "image/png": "[encoded data removed]",
      "text/plain": [
       "<Figure size 432x288 with 1 Axes>"
      ]
     },
     "metadata": {
      "needs_background": "light"
     },
     "output_type": "display_data"
    },
    {
     "data": {
      "text/plain": [
       "<Figure size 720x432 with 0 Axes>"
      ]
     },
     "metadata": {},
     "output_type": "display_data"
    }
   ],
   "source": [
    "#Information on \"very active\" minutes\n",
    "active_minutes_info(very)"
   ]
  },
  {
   "cell_type": "markdown",
   "metadata": {},
   "source": [
    "#### Moderately Active Minutes"
   ]
  },
  {
   "cell_type": "code",
   "execution_count": 31,
   "metadata": {},
   "outputs": [
    {
     "name": "stdout",
     "output_type": "stream",
     "text": [
      "On average, you are the most 'moderately active' on Thursdays, and the least 'moderately active' on Wednesdays!\n",
      "On average, you do 51.0 'moderately active' minutes on weekdays, and 47.0 'moderately active' minutes on weekends. That's a 4.0 minute difference on average!\n"
     ]
    },
    {
     "data": {
      "image/png": "[encoded data removed]",
      "text/plain": [
       "<Figure size 432x288 with 1 Axes>"
      ]
     },
     "metadata": {
      "needs_background": "light"
     },
     "output_type": "display_data"
    },
    {
     "data": {
      "text/plain": [
       "<Figure size 720x432 with 0 Axes>"
      ]
     },
     "metadata": {},
     "output_type": "display_data"
    }
   ],
   "source": [
    "#Information on \"moderately active\" minutes\n",
    "active_minutes_info(mod_active)"
   ]
  },
  {
   "cell_type": "markdown",
   "metadata": {},
   "source": [
    "#### Lightly Active Minutes"
   ]
  },
  {
   "cell_type": "code",
   "execution_count": 37,
   "metadata": {},
   "outputs": [
    {
     "name": "stdout",
     "output_type": "stream",
     "text": [
      "On average, you are the most 'lightly active' on Fridays, and the least 'lightly active' on Tuesdays!\n",
      "On average, you do 240.0 'lightly active' minutes on weekdays, and 222.0 'lightly active' minutes on weekends. That's a 18.0 minute difference on average!\n"
     ]
    },
    {
     "data": {
      "image/png": "[encoded data removed]",
      "text/plain": [
       "<Figure size 432x288 with 1 Axes>"
      ]
     },
     "metadata": {
      "needs_background": "light"
     },
     "output_type": "display_data"
    },
    {
     "data": {
      "text/plain": [
       "<Figure size 720x432 with 0 Axes>"
      ]
     },
     "metadata": {},
     "output_type": "display_data"
    }
   ],
   "source": [
    "#Information on \"lightly active\" minutes\n",
    "active_minutes_info(light_active)"
   ]
  },
  {
   "cell_type": "markdown",
   "metadata": {},
   "source": [
    "#### Sedentary Minutes "
   ]
  },
  {
   "cell_type": "code",
   "execution_count": 42,
   "metadata": {},
   "outputs": [
    {
     "name": "stdout",
     "output_type": "stream",
     "text": [
      "On average, you are the most 'sedentary' on Wednesdays, and the least 'sedentary' on Fridays!\n",
      "On average, you do 623.0 'sedentary' minutes on weekdays, and 639.0 'sedentary' minutes on weekends. That's a 16.0 minute difference on average!\n"
     ]
    },
    {
     "data": {
      "image/png": "[encoded data removed]",
      "text/plain": [
       "<Figure size 432x288 with 1 Axes>"
      ]
     },
     "metadata": {
      "needs_background": "light"
     },
     "output_type": "display_data"
    },
    {
     "data": {
      "text/plain": [
       "<Figure size 720x432 with 0 Axes>"
      ]
     },
     "metadata": {},
     "output_type": "display_data"
    }
   ],
   "source": [
    "#Information on \"sedentary\" minutes\n",
    "active_minutes_info(sed_min)"
   ]
  },
  {
   "cell_type": "markdown",
   "metadata": {},
   "source": [
    "#### Active minutes of each day"
   ]
  },
  {
   "cell_type": "code",
   "execution_count": 43,
   "metadata": {},
   "outputs": [],
   "source": [
    "#A function to showcase distribution of active minutes each day\n",
    "def all_active_minutes():\n",
    "    days = [\"Sunday\", \"Monday\", \"Tuesday\", \"Wednesday\", \"Thursday\", \"Friday\", \"Saturday\"]\n",
    "    new = pd.merge(mod_active, sed_min)\n",
    "    new1 = pd.merge(new, light_active)\n",
    "    new2 = pd.merge(new1, very)\n",
    "    grouped = new2.groupby(\"Day of Week\").mean().reset_index()\n",
    "    df2 = pd.DataFrame(grouped, columns=['moderately active min', 'very active min', 'lightly active min'])\n",
    "    ax = df2.plot.bar();\n",
    "    plt.figure(figsize = (20, 10))\n",
    "    ax.set_xticklabels(days, rotation='45', fontsize=10)"
   ]
  },
  {
   "cell_type": "code",
   "execution_count": 44,
   "metadata": {},
   "outputs": [
    {
     "data": {
      "image/png": "[encoded data removed]",
      "text/plain": [
       "<Figure size 432x288 with 1 Axes>"
      ]
     },
     "metadata": {
      "needs_background": "light"
     },
     "output_type": "display_data"
    },
    {
     "data": {
      "text/plain": [
       "<Figure size 1440x720 with 0 Axes>"
      ]
     },
     "metadata": {},
     "output_type": "display_data"
    }
   ],
   "source": [
    "all_active_minutes()"
   ]
  },
  {
   "cell_type": "markdown",
   "metadata": {},
   "source": [
    "### Distance Traveled"
   ]
  },
  {
   "cell_type": "code",
   "execution_count": 92,
   "metadata": {},
   "outputs": [
    {
     "data": {
      "text/html": [
       "<div>\n",
       "<style scoped>\n",
       "    .dataframe tbody tr th:only-of-type {\n",
       "        vertical-align: middle;\n",
       "    }\n",
       "\n",
       "    .dataframe tbody tr th {\n",
       "        vertical-align: top;\n",
       "    }\n",
       "\n",
       "    .dataframe thead th {\n",
       "        text-align: right;\n",
       "    }\n",
       "</style>\n",
       "<table border=\"1\" class=\"dataframe\">\n",
       "  <thead>\n",
       "    <tr style=\"text-align: right;\">\n",
       "      <th></th>\n",
       "      <th>date</th>\n",
       "      <th>distance traveled</th>\n",
       "      <th>Day of Week</th>\n",
       "      <th>Is Weekend</th>\n",
       "      <th>Month</th>\n",
       "      <th>Day</th>\n",
       "      <th>Year</th>\n",
       "    </tr>\n",
       "  </thead>\n",
       "  <tbody>\n",
       "    <tr>\n",
       "      <th>0</th>\n",
       "      <td>0016-12-31</td>\n",
       "      <td>7137</td>\n",
       "      <td>5</td>\n",
       "      <td>False</td>\n",
       "      <td>12</td>\n",
       "      <td>31</td>\n",
       "      <td>2016</td>\n",
       "    </tr>\n",
       "    <tr>\n",
       "      <th>1</th>\n",
       "      <td>0017-01-01</td>\n",
       "      <td>16107</td>\n",
       "      <td>6</td>\n",
       "      <td>True</td>\n",
       "      <td>1</td>\n",
       "      <td>1</td>\n",
       "      <td>2017</td>\n",
       "    </tr>\n",
       "    <tr>\n",
       "      <th>2</th>\n",
       "      <td>0017-01-02</td>\n",
       "      <td>6462</td>\n",
       "      <td>0</td>\n",
       "      <td>True</td>\n",
       "      <td>1</td>\n",
       "      <td>2</td>\n",
       "      <td>2017</td>\n",
       "    </tr>\n",
       "    <tr>\n",
       "      <th>3</th>\n",
       "      <td>0017-01-03</td>\n",
       "      <td>10344</td>\n",
       "      <td>1</td>\n",
       "      <td>False</td>\n",
       "      <td>1</td>\n",
       "      <td>3</td>\n",
       "      <td>2017</td>\n",
       "    </tr>\n",
       "    <tr>\n",
       "      <th>4</th>\n",
       "      <td>0017-01-04</td>\n",
       "      <td>10779</td>\n",
       "      <td>2</td>\n",
       "      <td>False</td>\n",
       "      <td>1</td>\n",
       "      <td>4</td>\n",
       "      <td>2017</td>\n",
       "    </tr>\n",
       "  </tbody>\n",
       "</table>\n",
       "</div>"
      ],
      "text/plain": [
       "         date  distance traveled  Day of Week  Is Weekend  Month  Day  Year\n",
       "0  0016-12-31               7137            5       False     12   31  2016\n",
       "1  0017-01-01              16107            6        True      1    1  2017\n",
       "2  0017-01-02               6462            0        True      1    2  2017\n",
       "3  0017-01-03              10344            1       False      1    3  2017\n",
       "4  0017-01-04              10779            2       False      1    4  2017"
      ]
     },
     "execution_count": 92,
     "metadata": {},
     "output_type": "execute_result"
    }
   ],
   "source": [
    "dist = cleaned[7]\n",
    "dist.head()"
   ]
  },
  {
   "cell_type": "markdown",
   "metadata": {},
   "source": [
    "#### Comparing distance traveled"
   ]
  },
  {
   "cell_type": "code",
   "execution_count": 33,
   "metadata": {},
   "outputs": [],
   "source": [
    "def distance(df):\n",
    "    plt.figure()\n",
    "    sns.boxplot(x=\"Day of Week\", y='distance traveled', data=df)\n",
    "    plt.title(\"Day of Week vs Distance Traveled\");\n",
    "    print('Hmm, distances travleled on Tuesdays seem to be very concentrated.')\n",
    "    plt.figure()\n",
    "    sns.boxplot(x=\"Is Weekend\", y='distance traveled', data=df)\n",
    "    plt.title(\"Is Weekend vs Distance Traveled\");\n",
    "    print('You sure have more activity on the weekdays!')\n",
    "    plt.figure()\n",
    "    sns.boxplot(x=\"Month\", y='distance traveled', data=df)\n",
    "    plt.title(\"Month vs Distance Traveled\");\n",
    "    plt.figure()\n",
    "    sns.boxplot(x=\"Day\", y='distance traveled', data=df)\n",
    "    plt.title(\"Day vs Distance Traveled\");\n",
    "    print('Maybe try doing more activities in the middle of the month.')"
   ]
  },
  {
   "cell_type": "code",
   "execution_count": 32,
   "metadata": {},
   "outputs": [
    {
     "name": "stdout",
     "output_type": "stream",
     "text": [
      "Hmm, distances travleled on Tuesdays seem to be very concentrated.\n",
      "You sure have more activity on the weekdays!\n",
      "Maybe try doing more activities in the middle of the month.\n"
     ]
    },
    {
     "data": {
      "image/png": "[encoded data removed]",
      "text/plain": [
       "<Figure size 432x288 with 1 Axes>"
      ]
     },
     "metadata": {
      "needs_background": "light"
     },
     "output_type": "display_data"
    },
    {
     "data": {
      "image/png": "[encoded data removed]",
      "text/plain": [
       "<Figure size 432x288 with 1 Axes>"
      ]
     },
     "metadata": {
      "needs_background": "light"
     },
     "output_type": "display_data"
    },
    {
     "data": {
      "image/png": "[encoded data removed]",
      "text/plain": [
       "<Figure size 432x288 with 1 Axes>"
      ]
     },
     "metadata": {
      "needs_background": "light"
     },
     "output_type": "display_data"
    },
    {
     "data": {
      "image/png": "[encoded data removed]",
      "text/plain": [
       "<Figure size 432x288 with 1 Axes>"
      ]
     },
     "metadata": {
      "needs_background": "light"
     },
     "output_type": "display_data"
    }
   ],
   "source": [
    "distance(dist)"
   ]
  },
  {
   "cell_type": "markdown",
   "metadata": {},
   "source": [
    "## Heartrate"
   ]
  },
  {
   "cell_type": "code",
   "execution_count": 14,
   "metadata": {},
   "outputs": [
    {
     "data": {
      "text/html": [
       "<div>\n",
       "<style scoped>\n",
       "    .dataframe tbody tr th:only-of-type {\n",
       "        vertical-align: middle;\n",
       "    }\n",
       "\n",
       "    .dataframe tbody tr th {\n",
       "        vertical-align: top;\n",
       "    }\n",
       "\n",
       "    .dataframe thead th {\n",
       "        text-align: right;\n",
       "    }\n",
       "</style>\n",
       "<table border=\"1\" class=\"dataframe\">\n",
       "  <thead>\n",
       "    <tr style=\"text-align: right;\">\n",
       "      <th></th>\n",
       "      <th>dateTime</th>\n",
       "      <th>Day of Week</th>\n",
       "      <th>Is Weekend</th>\n",
       "      <th>Month</th>\n",
       "      <th>Day</th>\n",
       "      <th>Year</th>\n",
       "      <th>heartrate</th>\n",
       "      <th>error</th>\n",
       "    </tr>\n",
       "    <tr>\n",
       "      <th>resting heartrate</th>\n",
       "      <th></th>\n",
       "      <th></th>\n",
       "      <th></th>\n",
       "      <th></th>\n",
       "      <th></th>\n",
       "      <th></th>\n",
       "      <th></th>\n",
       "      <th></th>\n",
       "    </tr>\n",
       "  </thead>\n",
       "  <tbody>\n",
       "    <tr>\n",
       "      <th>151</th>\n",
       "      <td>05/30/17 00:00:00</td>\n",
       "      <td>1</td>\n",
       "      <td>False</td>\n",
       "      <td>5</td>\n",
       "      <td>30</td>\n",
       "      <td>2017</td>\n",
       "      <td>72.000000</td>\n",
       "      <td>100.000000</td>\n",
       "    </tr>\n",
       "    <tr>\n",
       "      <th>152</th>\n",
       "      <td>05/31/17 00:00:00</td>\n",
       "      <td>2</td>\n",
       "      <td>False</td>\n",
       "      <td>5</td>\n",
       "      <td>31</td>\n",
       "      <td>2017</td>\n",
       "      <td>66.424713</td>\n",
       "      <td>26.950447</td>\n",
       "    </tr>\n",
       "    <tr>\n",
       "      <th>153</th>\n",
       "      <td>06/01/17 00:00:00</td>\n",
       "      <td>3</td>\n",
       "      <td>False</td>\n",
       "      <td>6</td>\n",
       "      <td>1</td>\n",
       "      <td>2017</td>\n",
       "      <td>65.973721</td>\n",
       "      <td>10.661155</td>\n",
       "    </tr>\n",
       "    <tr>\n",
       "      <th>154</th>\n",
       "      <td>06/02/17 00:00:00</td>\n",
       "      <td>4</td>\n",
       "      <td>False</td>\n",
       "      <td>6</td>\n",
       "      <td>2</td>\n",
       "      <td>2017</td>\n",
       "      <td>65.922898</td>\n",
       "      <td>7.914382</td>\n",
       "    </tr>\n",
       "    <tr>\n",
       "      <th>155</th>\n",
       "      <td>06/03/17 00:00:00</td>\n",
       "      <td>5</td>\n",
       "      <td>False</td>\n",
       "      <td>6</td>\n",
       "      <td>3</td>\n",
       "      <td>2017</td>\n",
       "      <td>66.353669</td>\n",
       "      <td>7.146274</td>\n",
       "    </tr>\n",
       "  </tbody>\n",
       "</table>\n",
       "</div>"
      ],
      "text/plain": [
       "                            dateTime  Day of Week  Is Weekend  Month  Day  \\\n",
       "resting heartrate                                                           \n",
       "151                05/30/17 00:00:00            1       False      5   30   \n",
       "152                05/31/17 00:00:00            2       False      5   31   \n",
       "153                06/01/17 00:00:00            3       False      6    1   \n",
       "154                06/02/17 00:00:00            4       False      6    2   \n",
       "155                06/03/17 00:00:00            5       False      6    3   \n",
       "\n",
       "                   Year  heartrate       error  \n",
       "resting heartrate                               \n",
       "151                2017  72.000000  100.000000  \n",
       "152                2017  66.424713   26.950447  \n",
       "153                2017  65.973721   10.661155  \n",
       "154                2017  65.922898    7.914382  \n",
       "155                2017  66.353669    7.146274  "
      ]
     },
     "execution_count": 14,
     "metadata": {},
     "output_type": "execute_result"
    }
   ],
   "source": [
    "rest_heart = cleaned[1]\n",
    "rest_heart.head()"
   ]
  },
  {
   "cell_type": "markdown",
   "metadata": {},
   "source": [
    "#### Resting heartrate vs. Day of the Week"
   ]
  },
  {
   "cell_type": "code",
   "execution_count": 15,
   "metadata": {},
   "outputs": [],
   "source": [
    "def heart_day(df):\n",
    "    plt.figure(figsize = (10, 8))\n",
    "    sns.boxplot(x = 'Day of Week', y = 'heartrate', data = df)\n",
    "    x = np.array([0, 1, 2, 3, 4, 5, 6])\n",
    "    new = np.array(['Sun', 'Mon', 'Tue', 'Wed','Thur','Fri', 'Sat'])\n",
    "    plt.xticks(x, new)\n",
    "    plt.title('Heartrate vs. Day of Week')\n",
    "    plt.ylabel('Heartrate')"
   ]
  },
  {
   "cell_type": "code",
   "execution_count": 17,
   "metadata": {},
   "outputs": [
    {
     "data": {
      "image/png": "[encoded data removed]",
      "text/plain": [
       "<Figure size 720x576 with 1 Axes>"
      ]
     },
     "metadata": {
      "needs_background": "light"
     },
     "output_type": "display_data"
    }
   ],
   "source": [
    "heart_day(rest_heart)"
   ]
  },
  {
   "cell_type": "markdown",
   "metadata": {},
   "source": [
    "#### Comparing resting heartrate with weekends vs. weekdays"
   ]
  },
  {
   "cell_type": "code",
   "execution_count": 42,
   "metadata": {},
   "outputs": [],
   "source": [
    "def heart_weekend(df):\n",
    "    plt.figure(figsize=(7, 5))\n",
    "    sns.boxplot(x = 'Is Weekend', y = 'heartrate', data = df)\n",
    "    plt.title('Is Weekend vs. Resting heartrate')\n",
    "    plt.ylabel('Heartrate')\n",
    "    print('Your heartrate on the weekdays seem to be more varied!')"
   ]
  },
  {
   "cell_type": "code",
   "execution_count": 43,
   "metadata": {},
   "outputs": [
    {
     "name": "stdout",
     "output_type": "stream",
     "text": [
      "Your heartrate on the weekdays seem to be more varied!\n"
     ]
    },
    {
     "data": {
      "image/png": "[encoded data removed]",
      "text/plain": [
       "<Figure size 504x360 with 1 Axes>"
      ]
     },
     "metadata": {
      "needs_background": "light"
     },
     "output_type": "display_data"
    }
   ],
   "source": [
    "heart_weekend(rest_heart)"
   ]
  },
  {
   "cell_type": "markdown",
   "metadata": {},
   "source": [
    "#### Resting heartrate over time"
   ]
  },
  {
   "cell_type": "markdown",
   "metadata": {},
   "source": [
    "This function shows one's resting heartrate trend over a period of time, when he or she is not doing any vigorous activities."
   ]
  },
  {
   "cell_type": "code",
   "execution_count": 20,
   "metadata": {},
   "outputs": [],
   "source": [
    "def heart_over_time(df):\n",
    "    plt.figure(figsize=(20, 6))\n",
    "    ax = sns.scatterplot(x = 'dateTime', y = 'heartrate', data = df)\n",
    "    ax.xaxis.set_major_locator(plt.MaxNLocator(10))\n",
    "    plt.title('Resting Heart Rate')\n",
    "    plt.ylabel('Heartrate')\n",
    "    plt.xlabel('Date')\n",
    "    plt.show()\n",
    "    print('Your vitals are looking great!')"
   ]
  },
  {
   "cell_type": "code",
   "execution_count": 21,
   "metadata": {},
   "outputs": [
    {
     "data": {
      "image/png": "[encoded data removed]",
      "text/plain": [
       "<Figure size 1440x432 with 1 Axes>"
      ]
     },
     "metadata": {
      "needs_background": "light"
     },
     "output_type": "display_data"
    },
    {
     "name": "stdout",
     "output_type": "stream",
     "text": [
      "Your vitals are looking great!\n"
     ]
    }
   ],
   "source": [
    "heart_over_time(rest_heart)"
   ]
  },
  {
   "cell_type": "markdown",
   "metadata": {},
   "source": [
    "## Calories"
   ]
  },
  {
   "cell_type": "code",
   "execution_count": 5,
   "metadata": {
    "scrolled": true
   },
   "outputs": [
    {
     "data": {
      "text/html": [
       "<div>\n",
       "<style scoped>\n",
       "    .dataframe tbody tr th:only-of-type {\n",
       "        vertical-align: middle;\n",
       "    }\n",
       "\n",
       "    .dataframe tbody tr th {\n",
       "        vertical-align: top;\n",
       "    }\n",
       "\n",
       "    .dataframe thead th {\n",
       "        text-align: right;\n",
       "    }\n",
       "</style>\n",
       "<table border=\"1\" class=\"dataframe\">\n",
       "  <thead>\n",
       "    <tr style=\"text-align: right;\">\n",
       "      <th></th>\n",
       "      <th></th>\n",
       "      <th></th>\n",
       "      <th>calories burned</th>\n",
       "      <th>Day of Week</th>\n",
       "      <th>Is Weekend</th>\n",
       "    </tr>\n",
       "    <tr>\n",
       "      <th>Month</th>\n",
       "      <th>Day</th>\n",
       "      <th>Year</th>\n",
       "      <th></th>\n",
       "      <th></th>\n",
       "      <th></th>\n",
       "    </tr>\n",
       "  </thead>\n",
       "  <tbody>\n",
       "    <tr>\n",
       "      <th rowspan=\"30\" valign=\"top\">1</th>\n",
       "      <th rowspan=\"3\" valign=\"top\">1</th>\n",
       "      <th>2017</th>\n",
       "      <td>15.0</td>\n",
       "      <td>6</td>\n",
       "      <td>True</td>\n",
       "    </tr>\n",
       "    <tr>\n",
       "      <th>2018</th>\n",
       "      <td>40.0</td>\n",
       "      <td>0</td>\n",
       "      <td>True</td>\n",
       "    </tr>\n",
       "    <tr>\n",
       "      <th>2019</th>\n",
       "      <td>42.0</td>\n",
       "      <td>1</td>\n",
       "      <td>False</td>\n",
       "    </tr>\n",
       "    <tr>\n",
       "      <th rowspan=\"3\" valign=\"top\">2</th>\n",
       "      <th>2017</th>\n",
       "      <td>13.0</td>\n",
       "      <td>0</td>\n",
       "      <td>True</td>\n",
       "    </tr>\n",
       "    <tr>\n",
       "      <th>2018</th>\n",
       "      <td>125.0</td>\n",
       "      <td>1</td>\n",
       "      <td>False</td>\n",
       "    </tr>\n",
       "    <tr>\n",
       "      <th>2019</th>\n",
       "      <td>0.0</td>\n",
       "      <td>2</td>\n",
       "      <td>False</td>\n",
       "    </tr>\n",
       "    <tr>\n",
       "      <th rowspan=\"3\" valign=\"top\">3</th>\n",
       "      <th>2017</th>\n",
       "      <td>0.0</td>\n",
       "      <td>1</td>\n",
       "      <td>False</td>\n",
       "    </tr>\n",
       "    <tr>\n",
       "      <th>2018</th>\n",
       "      <td>50.0</td>\n",
       "      <td>2</td>\n",
       "      <td>False</td>\n",
       "    </tr>\n",
       "    <tr>\n",
       "      <th>2019</th>\n",
       "      <td>4.0</td>\n",
       "      <td>3</td>\n",
       "      <td>False</td>\n",
       "    </tr>\n",
       "    <tr>\n",
       "      <th rowspan=\"3\" valign=\"top\">4</th>\n",
       "      <th>2017</th>\n",
       "      <td>28.0</td>\n",
       "      <td>2</td>\n",
       "      <td>False</td>\n",
       "    </tr>\n",
       "    <tr>\n",
       "      <th>2018</th>\n",
       "      <td>90.0</td>\n",
       "      <td>3</td>\n",
       "      <td>False</td>\n",
       "    </tr>\n",
       "    <tr>\n",
       "      <th>2019</th>\n",
       "      <td>16.0</td>\n",
       "      <td>4</td>\n",
       "      <td>False</td>\n",
       "    </tr>\n",
       "    <tr>\n",
       "      <th rowspan=\"3\" valign=\"top\">5</th>\n",
       "      <th>2017</th>\n",
       "      <td>0.0</td>\n",
       "      <td>3</td>\n",
       "      <td>False</td>\n",
       "    </tr>\n",
       "    <tr>\n",
       "      <th>2018</th>\n",
       "      <td>74.0</td>\n",
       "      <td>4</td>\n",
       "      <td>False</td>\n",
       "    </tr>\n",
       "    <tr>\n",
       "      <th>2019</th>\n",
       "      <td>71.0</td>\n",
       "      <td>5</td>\n",
       "      <td>False</td>\n",
       "    </tr>\n",
       "    <tr>\n",
       "      <th rowspan=\"3\" valign=\"top\">6</th>\n",
       "      <th>2017</th>\n",
       "      <td>0.0</td>\n",
       "      <td>4</td>\n",
       "      <td>False</td>\n",
       "    </tr>\n",
       "    <tr>\n",
       "      <th>2018</th>\n",
       "      <td>63.0</td>\n",
       "      <td>5</td>\n",
       "      <td>False</td>\n",
       "    </tr>\n",
       "    <tr>\n",
       "      <th>2019</th>\n",
       "      <td>0.0</td>\n",
       "      <td>6</td>\n",
       "      <td>True</td>\n",
       "    </tr>\n",
       "    <tr>\n",
       "      <th rowspan=\"3\" valign=\"top\">7</th>\n",
       "      <th>2017</th>\n",
       "      <td>0.0</td>\n",
       "      <td>5</td>\n",
       "      <td>False</td>\n",
       "    </tr>\n",
       "    <tr>\n",
       "      <th>2018</th>\n",
       "      <td>153.0</td>\n",
       "      <td>6</td>\n",
       "      <td>True</td>\n",
       "    </tr>\n",
       "    <tr>\n",
       "      <th>2019</th>\n",
       "      <td>0.0</td>\n",
       "      <td>0</td>\n",
       "      <td>True</td>\n",
       "    </tr>\n",
       "    <tr>\n",
       "      <th rowspan=\"3\" valign=\"top\">8</th>\n",
       "      <th>2017</th>\n",
       "      <td>0.0</td>\n",
       "      <td>6</td>\n",
       "      <td>True</td>\n",
       "    </tr>\n",
       "    <tr>\n",
       "      <th>2018</th>\n",
       "      <td>34.0</td>\n",
       "      <td>0</td>\n",
       "      <td>True</td>\n",
       "    </tr>\n",
       "    <tr>\n",
       "      <th>2019</th>\n",
       "      <td>11.0</td>\n",
       "      <td>1</td>\n",
       "      <td>False</td>\n",
       "    </tr>\n",
       "    <tr>\n",
       "      <th rowspan=\"3\" valign=\"top\">9</th>\n",
       "      <th>2017</th>\n",
       "      <td>6.0</td>\n",
       "      <td>0</td>\n",
       "      <td>True</td>\n",
       "    </tr>\n",
       "    <tr>\n",
       "      <th>2018</th>\n",
       "      <td>94.0</td>\n",
       "      <td>1</td>\n",
       "      <td>False</td>\n",
       "    </tr>\n",
       "    <tr>\n",
       "      <th>2019</th>\n",
       "      <td>46.0</td>\n",
       "      <td>2</td>\n",
       "      <td>False</td>\n",
       "    </tr>\n",
       "    <tr>\n",
       "      <th rowspan=\"3\" valign=\"top\">10</th>\n",
       "      <th>2017</th>\n",
       "      <td>24.0</td>\n",
       "      <td>1</td>\n",
       "      <td>False</td>\n",
       "    </tr>\n",
       "    <tr>\n",
       "      <th>2018</th>\n",
       "      <td>72.0</td>\n",
       "      <td>2</td>\n",
       "      <td>False</td>\n",
       "    </tr>\n",
       "    <tr>\n",
       "      <th>2019</th>\n",
       "      <td>0.0</td>\n",
       "      <td>3</td>\n",
       "      <td>False</td>\n",
       "    </tr>\n",
       "    <tr>\n",
       "      <th>...</th>\n",
       "      <th>...</th>\n",
       "      <th>...</th>\n",
       "      <td>...</td>\n",
       "      <td>...</td>\n",
       "      <td>...</td>\n",
       "    </tr>\n",
       "    <tr>\n",
       "      <th rowspan=\"30\" valign=\"top\">12</th>\n",
       "      <th rowspan=\"2\" valign=\"top\">18</th>\n",
       "      <th>2017</th>\n",
       "      <td>33.0</td>\n",
       "      <td>0</td>\n",
       "      <td>True</td>\n",
       "    </tr>\n",
       "    <tr>\n",
       "      <th>2018</th>\n",
       "      <td>53.0</td>\n",
       "      <td>1</td>\n",
       "      <td>False</td>\n",
       "    </tr>\n",
       "    <tr>\n",
       "      <th rowspan=\"2\" valign=\"top\">19</th>\n",
       "      <th>2017</th>\n",
       "      <td>39.0</td>\n",
       "      <td>1</td>\n",
       "      <td>False</td>\n",
       "    </tr>\n",
       "    <tr>\n",
       "      <th>2018</th>\n",
       "      <td>3.0</td>\n",
       "      <td>2</td>\n",
       "      <td>False</td>\n",
       "    </tr>\n",
       "    <tr>\n",
       "      <th rowspan=\"2\" valign=\"top\">20</th>\n",
       "      <th>2017</th>\n",
       "      <td>60.0</td>\n",
       "      <td>2</td>\n",
       "      <td>False</td>\n",
       "    </tr>\n",
       "    <tr>\n",
       "      <th>2018</th>\n",
       "      <td>16.0</td>\n",
       "      <td>3</td>\n",
       "      <td>False</td>\n",
       "    </tr>\n",
       "    <tr>\n",
       "      <th rowspan=\"2\" valign=\"top\">21</th>\n",
       "      <th>2017</th>\n",
       "      <td>10.0</td>\n",
       "      <td>3</td>\n",
       "      <td>False</td>\n",
       "    </tr>\n",
       "    <tr>\n",
       "      <th>2018</th>\n",
       "      <td>4.0</td>\n",
       "      <td>4</td>\n",
       "      <td>False</td>\n",
       "    </tr>\n",
       "    <tr>\n",
       "      <th rowspan=\"2\" valign=\"top\">22</th>\n",
       "      <th>2017</th>\n",
       "      <td>56.0</td>\n",
       "      <td>4</td>\n",
       "      <td>False</td>\n",
       "    </tr>\n",
       "    <tr>\n",
       "      <th>2018</th>\n",
       "      <td>43.0</td>\n",
       "      <td>5</td>\n",
       "      <td>False</td>\n",
       "    </tr>\n",
       "    <tr>\n",
       "      <th rowspan=\"2\" valign=\"top\">23</th>\n",
       "      <th>2017</th>\n",
       "      <td>135.0</td>\n",
       "      <td>5</td>\n",
       "      <td>False</td>\n",
       "    </tr>\n",
       "    <tr>\n",
       "      <th>2018</th>\n",
       "      <td>29.0</td>\n",
       "      <td>6</td>\n",
       "      <td>True</td>\n",
       "    </tr>\n",
       "    <tr>\n",
       "      <th rowspan=\"2\" valign=\"top\">24</th>\n",
       "      <th>2017</th>\n",
       "      <td>0.0</td>\n",
       "      <td>6</td>\n",
       "      <td>True</td>\n",
       "    </tr>\n",
       "    <tr>\n",
       "      <th>2018</th>\n",
       "      <td>0.0</td>\n",
       "      <td>0</td>\n",
       "      <td>True</td>\n",
       "    </tr>\n",
       "    <tr>\n",
       "      <th rowspan=\"2\" valign=\"top\">25</th>\n",
       "      <th>2017</th>\n",
       "      <td>0.0</td>\n",
       "      <td>0</td>\n",
       "      <td>True</td>\n",
       "    </tr>\n",
       "    <tr>\n",
       "      <th>2018</th>\n",
       "      <td>13.0</td>\n",
       "      <td>1</td>\n",
       "      <td>False</td>\n",
       "    </tr>\n",
       "    <tr>\n",
       "      <th rowspan=\"2\" valign=\"top\">26</th>\n",
       "      <th>2017</th>\n",
       "      <td>23.0</td>\n",
       "      <td>1</td>\n",
       "      <td>False</td>\n",
       "    </tr>\n",
       "    <tr>\n",
       "      <th>2018</th>\n",
       "      <td>16.0</td>\n",
       "      <td>2</td>\n",
       "      <td>False</td>\n",
       "    </tr>\n",
       "    <tr>\n",
       "      <th rowspan=\"2\" valign=\"top\">27</th>\n",
       "      <th>2017</th>\n",
       "      <td>22.0</td>\n",
       "      <td>2</td>\n",
       "      <td>False</td>\n",
       "    </tr>\n",
       "    <tr>\n",
       "      <th>2018</th>\n",
       "      <td>31.0</td>\n",
       "      <td>3</td>\n",
       "      <td>False</td>\n",
       "    </tr>\n",
       "    <tr>\n",
       "      <th rowspan=\"2\" valign=\"top\">28</th>\n",
       "      <th>2017</th>\n",
       "      <td>2.0</td>\n",
       "      <td>3</td>\n",
       "      <td>False</td>\n",
       "    </tr>\n",
       "    <tr>\n",
       "      <th>2018</th>\n",
       "      <td>37.0</td>\n",
       "      <td>4</td>\n",
       "      <td>False</td>\n",
       "    </tr>\n",
       "    <tr>\n",
       "      <th rowspan=\"2\" valign=\"top\">29</th>\n",
       "      <th>2017</th>\n",
       "      <td>41.0</td>\n",
       "      <td>4</td>\n",
       "      <td>False</td>\n",
       "    </tr>\n",
       "    <tr>\n",
       "      <th>2018</th>\n",
       "      <td>38.0</td>\n",
       "      <td>5</td>\n",
       "      <td>False</td>\n",
       "    </tr>\n",
       "    <tr>\n",
       "      <th rowspan=\"3\" valign=\"top\">30</th>\n",
       "      <th>2016</th>\n",
       "      <td>0.0</td>\n",
       "      <td>4</td>\n",
       "      <td>False</td>\n",
       "    </tr>\n",
       "    <tr>\n",
       "      <th>2017</th>\n",
       "      <td>25.0</td>\n",
       "      <td>5</td>\n",
       "      <td>False</td>\n",
       "    </tr>\n",
       "    <tr>\n",
       "      <th>2018</th>\n",
       "      <td>129.0</td>\n",
       "      <td>6</td>\n",
       "      <td>True</td>\n",
       "    </tr>\n",
       "    <tr>\n",
       "      <th rowspan=\"3\" valign=\"top\">31</th>\n",
       "      <th>2016</th>\n",
       "      <td>9.0</td>\n",
       "      <td>5</td>\n",
       "      <td>False</td>\n",
       "    </tr>\n",
       "    <tr>\n",
       "      <th>2017</th>\n",
       "      <td>76.0</td>\n",
       "      <td>6</td>\n",
       "      <td>True</td>\n",
       "    </tr>\n",
       "    <tr>\n",
       "      <th>2018</th>\n",
       "      <td>42.0</td>\n",
       "      <td>0</td>\n",
       "      <td>True</td>\n",
       "    </tr>\n",
       "  </tbody>\n",
       "</table>\n",
       "<p>840 rows × 3 columns</p>\n",
       "</div>"
      ],
      "text/plain": [
       "                calories burned  Day of Week  Is Weekend\n",
       "Month Day Year                                          \n",
       "1     1   2017             15.0            6        True\n",
       "          2018             40.0            0        True\n",
       "          2019             42.0            1       False\n",
       "      2   2017             13.0            0        True\n",
       "          2018            125.0            1       False\n",
       "          2019              0.0            2       False\n",
       "      3   2017              0.0            1       False\n",
       "          2018             50.0            2       False\n",
       "          2019              4.0            3       False\n",
       "      4   2017             28.0            2       False\n",
       "          2018             90.0            3       False\n",
       "          2019             16.0            4       False\n",
       "      5   2017              0.0            3       False\n",
       "          2018             74.0            4       False\n",
       "          2019             71.0            5       False\n",
       "      6   2017              0.0            4       False\n",
       "          2018             63.0            5       False\n",
       "          2019              0.0            6        True\n",
       "      7   2017              0.0            5       False\n",
       "          2018            153.0            6        True\n",
       "          2019              0.0            0        True\n",
       "      8   2017              0.0            6        True\n",
       "          2018             34.0            0        True\n",
       "          2019             11.0            1       False\n",
       "      9   2017              6.0            0        True\n",
       "          2018             94.0            1       False\n",
       "          2019             46.0            2       False\n",
       "      10  2017             24.0            1       False\n",
       "          2018             72.0            2       False\n",
       "          2019              0.0            3       False\n",
       "...                         ...          ...         ...\n",
       "12    18  2017             33.0            0        True\n",
       "          2018             53.0            1       False\n",
       "      19  2017             39.0            1       False\n",
       "          2018              3.0            2       False\n",
       "      20  2017             60.0            2       False\n",
       "          2018             16.0            3       False\n",
       "      21  2017             10.0            3       False\n",
       "          2018              4.0            4       False\n",
       "      22  2017             56.0            4       False\n",
       "          2018             43.0            5       False\n",
       "      23  2017            135.0            5       False\n",
       "          2018             29.0            6        True\n",
       "      24  2017              0.0            6        True\n",
       "          2018              0.0            0        True\n",
       "      25  2017              0.0            0        True\n",
       "          2018             13.0            1       False\n",
       "      26  2017             23.0            1       False\n",
       "          2018             16.0            2       False\n",
       "      27  2017             22.0            2       False\n",
       "          2018             31.0            3       False\n",
       "      28  2017              2.0            3       False\n",
       "          2018             37.0            4       False\n",
       "      29  2017             41.0            4       False\n",
       "          2018             38.0            5       False\n",
       "      30  2016              0.0            4       False\n",
       "          2017             25.0            5       False\n",
       "          2018            129.0            6        True\n",
       "      31  2016              9.0            5       False\n",
       "          2017             76.0            6        True\n",
       "          2018             42.0            0        True\n",
       "\n",
       "[840 rows x 3 columns]"
      ]
     },
     "execution_count": 5,
     "metadata": {},
     "output_type": "execute_result"
    }
   ],
   "source": [
    "cal_burned = cleaned[2]\n",
    "cal_burned"
   ]
  },
  {
   "cell_type": "code",
   "execution_count": 68,
   "metadata": {},
   "outputs": [],
   "source": [
    "#input dataframe has to have been processed using the 'agg_cal_burned' function.\n",
    "def table3_stats(df3):\n",
    "    mini = df3[df3['calories burned'] == df3['calories burned'].min()].reset_index()\n",
    "    maxi = df3[df3['calories burned'] == df3['calories burned'].max()].reset_index()\n",
    "    bottom_25 = df3['calories burned'].describe()['25%']\n",
    "    top_25 = df3['calories burned'].describe()['75%']\n",
    "    \n",
    "    #Most active day of week\n",
    "    days = ['Sunday', 'Monday', 'Tuesday', 'Wednesday', 'Thursday', 'Friday', 'Saturday']\n",
    "    tbl1 = df3.groupby('Day of Week').mean()\n",
    "    tbl1['Day'] = days\n",
    "    tbl1 = tbl1.set_index('Day')\n",
    "    tbl1 = tbl1[tbl1['calories burned'] == tbl1['calories burned'].max()].loc[:, ['calories burned']]\n",
    "    \n",
    "    #Most active month\n",
    "    months = ['January', 'February', 'March', 'April', 'May', 'June', 'July', 'August', 'September', 'October' \\\n",
    "              , 'November', 'December']\n",
    "    tbl2 = df3.groupby('Month').mean().reset_index()\n",
    "    tbl2['Month'] = months\n",
    "    tbl2 = tbl2.set_index('Month')\n",
    "    tbl2 = tbl2[tbl2['calories burned'] == tbl2['calories burned'].max()].loc[:, ['calories burned']]\n",
    "    \n",
    "    #Whether weekday or weekend is most active\n",
    "    tbl3 = df3.groupby('Is Weekend').mean()\n",
    "    tbl3 = tbl3[tbl3['calories burned'] == tbl3['calories burned'].max()].loc[:, ['calories burned']]\n",
    "    \n",
    "    print('Based on the information provided and the dates you wore your Fitbit:')\n",
    "    print()\n",
    "    print('On ' + str(mini['Month'][0]) + '/' + str(mini['Day'][0]) + '/' + str(mini['Year'][0]) \\\n",
    "          + ' you burnt a minimum of ' + str(np.round_(mini['calories burned'][0], decimals=2)) + ' calories.')\n",
    "    print()\n",
    "    print('On ' + str(maxi['Month'][0]) + '/' + str(maxi['Day'][0]) + '/' + str(maxi['Year'][0]) \\\n",
    "          + ' you burnt a maximum of ' + str(np.round_(maxi['calories burned'][0], decimals=2)) + ' calories.')\n",
    "    print()\n",
    "    print('For 50% of the days on which you used your fitbit, you burned between ' \\\n",
    "          + str(np.round(bottom_25, decimals=2)) + ' and ' + str(np.round(top_25, decimals=2)) + ' calories.')\n",
    "    print()\n",
    "    print('During the week, you burn the most calories on ' + tbl1.index.values[0] + ', buring an average of ' \\\n",
    "          + str(np.round(tbl1.iloc[0, 0], decimals=2)) + ' calories.')\n",
    "    print()\n",
    "    print('During the month of ' + str(tbl2.index.values[0]) + ' you had the highest average burned calories per day' \\\n",
    "          + ' burning an average of ' + str(np.round(tbl2.iloc[0,0], decimals=2)) + ' calories.')"
   ]
  },
  {
   "cell_type": "code",
   "execution_count": 69,
   "metadata": {},
   "outputs": [
    {
     "name": "stdout",
     "output_type": "stream",
     "text": [
      "Based on the information provided and the dates you wore your Fitbit:\n",
      "\n",
      "On 1/2/2019 you burnt a minimum of 0.0 calories.\n",
      "\n",
      "On 7/30/2018 you burnt a maximum of 237.0 calories.\n",
      "\n",
      "For 50% of the days on which you used your fitbit, you burned between 23.0 and 65.0 calories.\n",
      "\n",
      "During the week, you burn the most calories on Thursday, buring an average of 56.06 calories.\n",
      "\n",
      "During the month of July you had the highest average burned calories per day burning an average of 95.79 calories.\n"
     ]
    }
   ],
   "source": [
    "table3_stats(cal_burned)"
   ]
  },
  {
   "cell_type": "markdown",
   "metadata": {},
   "source": [
    "#### Hours vs. Calories Burned"
   ]
  },
  {
   "cell_type": "code",
   "execution_count": 60,
   "metadata": {},
   "outputs": [],
   "source": [
    "#input dataframe has only been processed using the 'index' function.\n",
    "def table3_graph1(df3):\n",
    "        \n",
    "    #plots a scatter and regression plot\n",
    "    df3['calories burned'] = df3['calories burned'].apply(np.double)\n",
    "    tbl1 = df3.groupby(['Month', 'Day', 'Year', 'Hour']).agg({'calories burned': np.sum, 'Day of Week': np.mean, \\\n",
    "                                                     'Is Weekend': np.mean})\n",
    "    tbl2 = tbl1.groupby('Hour').agg({'calories burned': 'mean'}).reset_index()\n",
    "    ax = sns.lmplot(x = 'Hour', y = 'calories burned', data = tbl2, order=3, size=5, aspect=2)\n",
    "    ax.set(xlabel='Hour', ylabel='Calories Burned', title ='Hour vs Calories Burned')"
   ]
  },
  {
   "cell_type": "code",
   "execution_count": 62,
   "metadata": {},
   "outputs": [
    {
     "name": "stderr",
     "output_type": "stream",
     "text": [
      "/Users/kelleyliu/anaconda3/envs/data-x/lib/python3.6/site-packages/seaborn/regression.py:546: UserWarning: The `size` paramter has been renamed to `height`; please update your code.\n",
      "  warnings.warn(msg, UserWarning)\n",
      "/Users/kelleyliu/anaconda3/envs/data-x/lib/python3.6/site-packages/scipy/stats/stats.py:1713: FutureWarning: Using a non-tuple sequence for multidimensional indexing is deprecated; use `arr[tuple(seq)]` instead of `arr[seq]`. In the future this will be interpreted as an array index, `arr[np.array(seq)]`, which will result either in an error or a different result.\n",
      "  return np.add.reduce(sorted[indexer] * weights, axis=axis) / sumval\n"
     ]
    },
    {
     "data": {
      "image/png": "[encoded data removed]",
      "text/plain": [
       "<Figure size 720x360 with 1 Axes>"
      ]
     },
     "metadata": {
      "needs_background": "light"
     },
     "output_type": "display_data"
    }
   ],
   "source": [
    "table3_graph1(cleaned[2])"
   ]
  },
  {
   "cell_type": "markdown",
   "metadata": {},
   "source": [
    "#### Day of Week vs. Calories Burned"
   ]
  },
  {
   "cell_type": "code",
   "execution_count": 63,
   "metadata": {},
   "outputs": [],
   "source": [
    "def table3_graph2(df3):\n",
    "    tbl1 = df3.groupby(['Month', 'Day', 'Year', 'Hour']).agg({'calories burned': np.sum, 'Day of Week': np.mean, \\\n",
    "                                                     'Is Weekend': np.mean})\n",
    "    #plots a bar graph \n",
    "    tbl2 = tbl1.groupby('Day of Week').agg({'calories burned': 'mean'}).reset_index()\n",
    "    tbl2['Day of Week'] = ['Sun', 'Mon', 'Tues', 'Wed', 'Thurs', 'Fri', 'Sat']\n",
    "    sns.set(style=\"whitegrid\")\n",
    "    ax2 = sns.barplot(x = 'Day of Week', y = 'calories burned', data=tbl2, linewidth=2.5, palette=\"Blues_d\")\n",
    "    ax2.set_ylabel('Calories Burned')\n",
    "    ax2.set_title('Day of Week vs Calories Burned')"
   ]
  },
  {
   "cell_type": "code",
   "execution_count": 65,
   "metadata": {},
   "outputs": [
    {
     "data": {
      "image/png": "[encoded data removed]",
      "text/plain": [
       "<Figure size 432x288 with 1 Axes>"
      ]
     },
     "metadata": {},
     "output_type": "display_data"
    }
   ],
   "source": [
    "table3_graph2(cleaned[2])"
   ]
  },
  {
   "cell_type": "markdown",
   "metadata": {},
   "source": [
    "## Sleep"
   ]
  },
  {
   "cell_type": "code",
   "execution_count": 81,
   "metadata": {},
   "outputs": [
    {
     "data": {
      "text/html": [
       "<div>\n",
       "<style scoped>\n",
       "    .dataframe tbody tr th:only-of-type {\n",
       "        vertical-align: middle;\n",
       "    }\n",
       "\n",
       "    .dataframe tbody tr th {\n",
       "        vertical-align: top;\n",
       "    }\n",
       "\n",
       "    .dataframe thead th {\n",
       "        text-align: right;\n",
       "    }\n",
       "</style>\n",
       "<table border=\"1\" class=\"dataframe\">\n",
       "  <thead>\n",
       "    <tr style=\"text-align: right;\">\n",
       "      <th></th>\n",
       "      <th>dateOfSleep</th>\n",
       "      <th>duration</th>\n",
       "      <th>efficiency</th>\n",
       "      <th>endTime</th>\n",
       "      <th>minutesAfterWakeup</th>\n",
       "      <th>minutesAsleep</th>\n",
       "      <th>minutesAwake</th>\n",
       "      <th>minutesToFallAsleep</th>\n",
       "      <th>startTime</th>\n",
       "      <th>timeInBed</th>\n",
       "      <th>...</th>\n",
       "      <th>deepthirtyDayAvgMinutes</th>\n",
       "      <th>wakecount</th>\n",
       "      <th>wakeminutes</th>\n",
       "      <th>wakethirtyDayAvgMinutes</th>\n",
       "      <th>lightcount</th>\n",
       "      <th>lightminutes</th>\n",
       "      <th>lightthirtyDayAvgMinutes</th>\n",
       "      <th>remcount</th>\n",
       "      <th>remminutes</th>\n",
       "      <th>remthirtyDayAvgMinutes</th>\n",
       "    </tr>\n",
       "  </thead>\n",
       "  <tbody>\n",
       "    <tr>\n",
       "      <th>0</th>\n",
       "      <td>2017-12-25</td>\n",
       "      <td>29820000</td>\n",
       "      <td>97</td>\n",
       "      <td>2017-12-25T06:26:00.000</td>\n",
       "      <td>0</td>\n",
       "      <td>442</td>\n",
       "      <td>55</td>\n",
       "      <td>0</td>\n",
       "      <td>2017-12-24T22:08:30.000</td>\n",
       "      <td>497</td>\n",
       "      <td>...</td>\n",
       "      <td>66</td>\n",
       "      <td>22</td>\n",
       "      <td>55</td>\n",
       "      <td>65</td>\n",
       "      <td>22</td>\n",
       "      <td>281</td>\n",
       "      <td>254</td>\n",
       "      <td>7</td>\n",
       "      <td>85</td>\n",
       "      <td>93</td>\n",
       "    </tr>\n",
       "    <tr>\n",
       "      <th>1</th>\n",
       "      <td>2017-12-24</td>\n",
       "      <td>3900000</td>\n",
       "      <td>88</td>\n",
       "      <td>2017-12-24T18:42:30.000</td>\n",
       "      <td>0</td>\n",
       "      <td>57</td>\n",
       "      <td>8</td>\n",
       "      <td>0</td>\n",
       "      <td>2017-12-24T17:37:00.000</td>\n",
       "      <td>65</td>\n",
       "      <td>...</td>\n",
       "      <td>0</td>\n",
       "      <td>0</td>\n",
       "      <td>0</td>\n",
       "      <td>0</td>\n",
       "      <td>0</td>\n",
       "      <td>0</td>\n",
       "      <td>0</td>\n",
       "      <td>0</td>\n",
       "      <td>0</td>\n",
       "      <td>0</td>\n",
       "    </tr>\n",
       "    <tr>\n",
       "      <th>2</th>\n",
       "      <td>2017-12-24</td>\n",
       "      <td>24480000</td>\n",
       "      <td>95</td>\n",
       "      <td>2017-12-24T06:55:30.000</td>\n",
       "      <td>0</td>\n",
       "      <td>357</td>\n",
       "      <td>51</td>\n",
       "      <td>0</td>\n",
       "      <td>2017-12-24T00:07:00.000</td>\n",
       "      <td>408</td>\n",
       "      <td>...</td>\n",
       "      <td>66</td>\n",
       "      <td>22</td>\n",
       "      <td>51</td>\n",
       "      <td>65</td>\n",
       "      <td>22</td>\n",
       "      <td>224</td>\n",
       "      <td>256</td>\n",
       "      <td>9</td>\n",
       "      <td>91</td>\n",
       "      <td>93</td>\n",
       "    </tr>\n",
       "    <tr>\n",
       "      <th>3</th>\n",
       "      <td>2017-12-23</td>\n",
       "      <td>7980000</td>\n",
       "      <td>96</td>\n",
       "      <td>2017-12-23T16:28:00.000</td>\n",
       "      <td>0</td>\n",
       "      <td>128</td>\n",
       "      <td>5</td>\n",
       "      <td>0</td>\n",
       "      <td>2017-12-23T14:15:00.000</td>\n",
       "      <td>133</td>\n",
       "      <td>...</td>\n",
       "      <td>0</td>\n",
       "      <td>0</td>\n",
       "      <td>0</td>\n",
       "      <td>0</td>\n",
       "      <td>0</td>\n",
       "      <td>0</td>\n",
       "      <td>0</td>\n",
       "      <td>0</td>\n",
       "      <td>0</td>\n",
       "      <td>0</td>\n",
       "    </tr>\n",
       "    <tr>\n",
       "      <th>4</th>\n",
       "      <td>2017-12-22</td>\n",
       "      <td>32400000</td>\n",
       "      <td>94</td>\n",
       "      <td>2017-12-22T20:25:30.000</td>\n",
       "      <td>0</td>\n",
       "      <td>448</td>\n",
       "      <td>92</td>\n",
       "      <td>0</td>\n",
       "      <td>2017-12-22T11:25:30.000</td>\n",
       "      <td>540</td>\n",
       "      <td>...</td>\n",
       "      <td>66</td>\n",
       "      <td>23</td>\n",
       "      <td>92</td>\n",
       "      <td>64</td>\n",
       "      <td>27</td>\n",
       "      <td>299</td>\n",
       "      <td>254</td>\n",
       "      <td>6</td>\n",
       "      <td>61</td>\n",
       "      <td>94</td>\n",
       "    </tr>\n",
       "  </tbody>\n",
       "</table>\n",
       "<p>5 rows × 23 columns</p>\n",
       "</div>"
      ],
      "text/plain": [
       "  dateOfSleep  duration  efficiency                  endTime  \\\n",
       "0  2017-12-25  29820000          97  2017-12-25T06:26:00.000   \n",
       "1  2017-12-24   3900000          88  2017-12-24T18:42:30.000   \n",
       "2  2017-12-24  24480000          95  2017-12-24T06:55:30.000   \n",
       "3  2017-12-23   7980000          96  2017-12-23T16:28:00.000   \n",
       "4  2017-12-22  32400000          94  2017-12-22T20:25:30.000   \n",
       "\n",
       "   minutesAfterWakeup  minutesAsleep  minutesAwake  minutesToFallAsleep  \\\n",
       "0                   0            442            55                    0   \n",
       "1                   0             57             8                    0   \n",
       "2                   0            357            51                    0   \n",
       "3                   0            128             5                    0   \n",
       "4                   0            448            92                    0   \n",
       "\n",
       "                 startTime  timeInBed           ...            \\\n",
       "0  2017-12-24T22:08:30.000        497           ...             \n",
       "1  2017-12-24T17:37:00.000         65           ...             \n",
       "2  2017-12-24T00:07:00.000        408           ...             \n",
       "3  2017-12-23T14:15:00.000        133           ...             \n",
       "4  2017-12-22T11:25:30.000        540           ...             \n",
       "\n",
       "  deepthirtyDayAvgMinutes  wakecount  wakeminutes  wakethirtyDayAvgMinutes  \\\n",
       "0                      66         22           55                       65   \n",
       "1                       0          0            0                        0   \n",
       "2                      66         22           51                       65   \n",
       "3                       0          0            0                        0   \n",
       "4                      66         23           92                       64   \n",
       "\n",
       "   lightcount  lightminutes  lightthirtyDayAvgMinutes  remcount  remminutes  \\\n",
       "0          22           281                       254         7          85   \n",
       "1           0             0                         0         0           0   \n",
       "2          22           224                       256         9          91   \n",
       "3           0             0                         0         0           0   \n",
       "4          27           299                       254         6          61   \n",
       "\n",
       "   remthirtyDayAvgMinutes  \n",
       "0                      93  \n",
       "1                       0  \n",
       "2                      93  \n",
       "3                       0  \n",
       "4                      94  \n",
       "\n",
       "[5 rows x 23 columns]"
      ]
     },
     "execution_count": 81,
     "metadata": {},
     "output_type": "execute_result"
    }
   ],
   "source": [
    "sleep = cleaned[0]\n",
    "sleep.head()"
   ]
  },
  {
   "cell_type": "code",
   "execution_count": 82,
   "metadata": {},
   "outputs": [],
   "source": [
    "def sleep_analysis(): \n",
    "    very[\"very active min\"] = very[\"very active min\"].apply(np.double)\n",
    "    very[\"greater than avg\"] = very[\"very active min\"] > very[\"very active min\"].mean()\n",
    "    very[\"new date\"] = [datetime.datetime.strptime(date, \"%m/%d/%y 00:00:00\") for date in very[\"dateTime\"]]\n",
    "    sleep[\"new date\"] = [datetime.datetime.strptime(date, \"%Y-%m-%d\") for date in sleep[\"dateOfSleep\"]]\n",
    "    new = pd.merge(very[[\"new date\", \"very active min\", \"greater than avg\"]], sleep, on = \"new date\")\n",
    "    \n",
    "    exercised = round(new[new[\"greater than avg\"] == True][\"lightminutes\"].mean())\n",
    "    nonexercised = round(new[new[\"greater than avg\"] == False][\"lightminutes\"].mean())\n",
    "    difference = nonexercised - exercised\n",
    "    print(\"On days where you exercise, you get \" + str(exercised) + \" 'light minutes' on average, while on days where you don't exercise, you get \" + str(nonexercised) + \". Because you get \" + str(difference) + \" less minutes of light sleep on days where you exercise, which means you get better quality sleep on exercise days!\")\n",
    "    print()\n",
    "    new = new.groupby(\"greater than avg\").mean().reset_index()\n",
    "    df2 = new[[\"greater than avg\", \"wakeminutes\", \"lightminutes\", \"remminutes\"]]\n",
    "    labels = [\"No Exercise\", \"Exercise\"]\n",
    "    ax = df2.plot.bar()\n",
    "    ax.set_xticklabels(labels, rotation='45', fontsize=10)\n",
    "    ax.set_ylabel(\"Amount of Sleep\")\n",
    "    plt.title(\"How Exercise Affects Sleep\")\n",
    "    \n",
    "    exercised = round(new[new[\"greater than avg\"] == True][\"minutesAsleep\"].mean())\n",
    "    nonexercised = round(new[new[\"greater than avg\"] == False][\"minutesAsleep\"].mean())\n",
    "    difference = exercised - nonexercised\n",
    "    print(\"On days where you exercise, you sleep \" + str(exercised) + \" minutes on avg, while on days where you don't exercise, you sleep \" + str(nonexercised) + \". You sleep for \" + str(difference) + \" more minutes on days where you exercise!\")\n",
    "    print()\n",
    "    df3 = new[[\"greater than avg\", \"timeInBed\", \"minutesAsleep\"]]\n",
    "    bx = df3.plot.bar()\n",
    "    bx.set_xticklabels(labels, rotation='45', fontsize=10)\n",
    "    bx.set_ylabel(\"Amount of Sleep\")\n",
    "    plt.title(\"How Exercise Affects Sleep\")"
   ]
  },
  {
   "cell_type": "code",
   "execution_count": 83,
   "metadata": {},
   "outputs": [
    {
     "name": "stdout",
     "output_type": "stream",
     "text": [
      "On days where you exercise, you get 146 'light minutes' on average, while on days where you don't exercise, you get 173. Because you get 27 less minutes of light sleep on days where you exercise, which means you get better quality sleep on exercise days!\n",
      "\n",
      "On days where you exercise, you sleep 362 minutes on avg, while on days where you don't exercise, you sleep 336. You sleep for 26 more minutes on days where you exercise!\n",
      "\n"
     ]
    },
    {
     "data": {
      "image/png": "[encoded data removed]",
      "text/plain": [
       "<Figure size 432x288 with 1 Axes>"
      ]
     },
     "metadata": {},
     "output_type": "display_data"
    },
    {
     "data": {
      "image/png": "[encoded data removed]",
      "text/plain": [
       "<Figure size 432x288 with 1 Axes>"
      ]
     },
     "metadata": {},
     "output_type": "display_data"
    }
   ],
   "source": [
    "sleep_analysis()"
   ]
  },
  {
   "cell_type": "code",
   "execution_count": 87,
   "metadata": {},
   "outputs": [
    {
     "data": {
      "text/html": [
       "<div>\n",
       "<style scoped>\n",
       "    .dataframe tbody tr th:only-of-type {\n",
       "        vertical-align: middle;\n",
       "    }\n",
       "\n",
       "    .dataframe tbody tr th {\n",
       "        vertical-align: top;\n",
       "    }\n",
       "\n",
       "    .dataframe thead th {\n",
       "        text-align: right;\n",
       "    }\n",
       "</style>\n",
       "<table border=\"1\" class=\"dataframe\">\n",
       "  <thead>\n",
       "    <tr style=\"text-align: right;\">\n",
       "      <th></th>\n",
       "      <th>new date</th>\n",
       "      <th>very active min</th>\n",
       "      <th>greater than avg</th>\n",
       "      <th>dateOfSleep</th>\n",
       "      <th>duration</th>\n",
       "      <th>efficiency</th>\n",
       "      <th>endTime</th>\n",
       "      <th>minutesAfterWakeup</th>\n",
       "      <th>minutesAsleep</th>\n",
       "      <th>minutesAwake</th>\n",
       "      <th>...</th>\n",
       "      <th>deepthirtyDayAvgMinutes</th>\n",
       "      <th>wakecount</th>\n",
       "      <th>wakeminutes</th>\n",
       "      <th>wakethirtyDayAvgMinutes</th>\n",
       "      <th>lightcount</th>\n",
       "      <th>lightminutes</th>\n",
       "      <th>lightthirtyDayAvgMinutes</th>\n",
       "      <th>remcount</th>\n",
       "      <th>remminutes</th>\n",
       "      <th>remthirtyDayAvgMinutes</th>\n",
       "    </tr>\n",
       "  </thead>\n",
       "  <tbody>\n",
       "    <tr>\n",
       "      <th>0</th>\n",
       "      <td>2017-06-28</td>\n",
       "      <td>94.0</td>\n",
       "      <td>True</td>\n",
       "      <td>2017-06-28</td>\n",
       "      <td>20340000</td>\n",
       "      <td>94</td>\n",
       "      <td>2017-06-28T08:15:00.000</td>\n",
       "      <td>0</td>\n",
       "      <td>279</td>\n",
       "      <td>60</td>\n",
       "      <td>...</td>\n",
       "      <td>0</td>\n",
       "      <td>25</td>\n",
       "      <td>60</td>\n",
       "      <td>0</td>\n",
       "      <td>24</td>\n",
       "      <td>182</td>\n",
       "      <td>0</td>\n",
       "      <td>8</td>\n",
       "      <td>61</td>\n",
       "      <td>0</td>\n",
       "    </tr>\n",
       "    <tr>\n",
       "      <th>1</th>\n",
       "      <td>2017-06-28</td>\n",
       "      <td>94.0</td>\n",
       "      <td>True</td>\n",
       "      <td>2017-06-28</td>\n",
       "      <td>7800000</td>\n",
       "      <td>100</td>\n",
       "      <td>2017-06-28T02:25:00.000</td>\n",
       "      <td>0</td>\n",
       "      <td>130</td>\n",
       "      <td>0</td>\n",
       "      <td>...</td>\n",
       "      <td>0</td>\n",
       "      <td>0</td>\n",
       "      <td>0</td>\n",
       "      <td>0</td>\n",
       "      <td>0</td>\n",
       "      <td>0</td>\n",
       "      <td>0</td>\n",
       "      <td>0</td>\n",
       "      <td>0</td>\n",
       "      <td>0</td>\n",
       "    </tr>\n",
       "    <tr>\n",
       "      <th>2</th>\n",
       "      <td>2017-06-28</td>\n",
       "      <td>94.0</td>\n",
       "      <td>True</td>\n",
       "      <td>2017-06-28</td>\n",
       "      <td>20340000</td>\n",
       "      <td>94</td>\n",
       "      <td>2017-06-28T08:15:00.000</td>\n",
       "      <td>0</td>\n",
       "      <td>279</td>\n",
       "      <td>60</td>\n",
       "      <td>...</td>\n",
       "      <td>75</td>\n",
       "      <td>25</td>\n",
       "      <td>60</td>\n",
       "      <td>71</td>\n",
       "      <td>24</td>\n",
       "      <td>182</td>\n",
       "      <td>254</td>\n",
       "      <td>8</td>\n",
       "      <td>61</td>\n",
       "      <td>95</td>\n",
       "    </tr>\n",
       "    <tr>\n",
       "      <th>3</th>\n",
       "      <td>2017-06-28</td>\n",
       "      <td>94.0</td>\n",
       "      <td>True</td>\n",
       "      <td>2017-06-28</td>\n",
       "      <td>7800000</td>\n",
       "      <td>100</td>\n",
       "      <td>2017-06-28T02:25:00.000</td>\n",
       "      <td>0</td>\n",
       "      <td>130</td>\n",
       "      <td>0</td>\n",
       "      <td>...</td>\n",
       "      <td>0</td>\n",
       "      <td>0</td>\n",
       "      <td>0</td>\n",
       "      <td>0</td>\n",
       "      <td>0</td>\n",
       "      <td>0</td>\n",
       "      <td>0</td>\n",
       "      <td>0</td>\n",
       "      <td>0</td>\n",
       "      <td>0</td>\n",
       "    </tr>\n",
       "    <tr>\n",
       "      <th>4</th>\n",
       "      <td>2017-06-29</td>\n",
       "      <td>37.0</td>\n",
       "      <td>False</td>\n",
       "      <td>2017-06-29</td>\n",
       "      <td>29520000</td>\n",
       "      <td>89</td>\n",
       "      <td>2017-06-29T07:21:30.000</td>\n",
       "      <td>1</td>\n",
       "      <td>406</td>\n",
       "      <td>86</td>\n",
       "      <td>...</td>\n",
       "      <td>36</td>\n",
       "      <td>21</td>\n",
       "      <td>86</td>\n",
       "      <td>60</td>\n",
       "      <td>20</td>\n",
       "      <td>223</td>\n",
       "      <td>182</td>\n",
       "      <td>10</td>\n",
       "      <td>113</td>\n",
       "      <td>61</td>\n",
       "    </tr>\n",
       "  </tbody>\n",
       "</table>\n",
       "<p>5 rows × 26 columns</p>\n",
       "</div>"
      ],
      "text/plain": [
       "    new date  very active min  greater than avg dateOfSleep  duration  \\\n",
       "0 2017-06-28             94.0              True  2017-06-28  20340000   \n",
       "1 2017-06-28             94.0              True  2017-06-28   7800000   \n",
       "2 2017-06-28             94.0              True  2017-06-28  20340000   \n",
       "3 2017-06-28             94.0              True  2017-06-28   7800000   \n",
       "4 2017-06-29             37.0             False  2017-06-29  29520000   \n",
       "\n",
       "   efficiency                  endTime  minutesAfterWakeup  minutesAsleep  \\\n",
       "0          94  2017-06-28T08:15:00.000                   0            279   \n",
       "1         100  2017-06-28T02:25:00.000                   0            130   \n",
       "2          94  2017-06-28T08:15:00.000                   0            279   \n",
       "3         100  2017-06-28T02:25:00.000                   0            130   \n",
       "4          89  2017-06-29T07:21:30.000                   1            406   \n",
       "\n",
       "   minutesAwake           ...            deepthirtyDayAvgMinutes wakecount  \\\n",
       "0            60           ...                                  0        25   \n",
       "1             0           ...                                  0         0   \n",
       "2            60           ...                                 75        25   \n",
       "3             0           ...                                  0         0   \n",
       "4            86           ...                                 36        21   \n",
       "\n",
       "   wakeminutes wakethirtyDayAvgMinutes  lightcount  lightminutes  \\\n",
       "0           60                       0          24           182   \n",
       "1            0                       0           0             0   \n",
       "2           60                      71          24           182   \n",
       "3            0                       0           0             0   \n",
       "4           86                      60          20           223   \n",
       "\n",
       "   lightthirtyDayAvgMinutes  remcount  remminutes  remthirtyDayAvgMinutes  \n",
       "0                         0         8          61                       0  \n",
       "1                         0         0           0                       0  \n",
       "2                       254         8          61                      95  \n",
       "3                         0         0           0                       0  \n",
       "4                       182        10         113                      61  \n",
       "\n",
       "[5 rows x 26 columns]"
      ]
     },
     "execution_count": 87,
     "metadata": {},
     "output_type": "execute_result"
    }
   ],
   "source": [
    "new = pd.merge(very[[\"new date\", \"very active min\", \"greater than avg\"]], sleep, on = \"new date\")\n",
    "new.head()"
   ]
  },
  {
   "cell_type": "code",
   "execution_count": 88,
   "metadata": {},
   "outputs": [
    {
     "data": {
      "text/html": [
       "<div>\n",
       "<style scoped>\n",
       "    .dataframe tbody tr th:only-of-type {\n",
       "        vertical-align: middle;\n",
       "    }\n",
       "\n",
       "    .dataframe tbody tr th {\n",
       "        vertical-align: top;\n",
       "    }\n",
       "\n",
       "    .dataframe thead th {\n",
       "        text-align: right;\n",
       "    }\n",
       "</style>\n",
       "<table border=\"1\" class=\"dataframe\">\n",
       "  <thead>\n",
       "    <tr style=\"text-align: right;\">\n",
       "      <th></th>\n",
       "      <th>greater than avg</th>\n",
       "      <th>very active min</th>\n",
       "      <th>duration</th>\n",
       "      <th>efficiency</th>\n",
       "      <th>minutesAfterWakeup</th>\n",
       "      <th>minutesAsleep</th>\n",
       "      <th>minutesAwake</th>\n",
       "      <th>minutesToFallAsleep</th>\n",
       "      <th>timeInBed</th>\n",
       "      <th>deepcount</th>\n",
       "      <th>...</th>\n",
       "      <th>deepthirtyDayAvgMinutes</th>\n",
       "      <th>wakecount</th>\n",
       "      <th>wakeminutes</th>\n",
       "      <th>wakethirtyDayAvgMinutes</th>\n",
       "      <th>lightcount</th>\n",
       "      <th>lightminutes</th>\n",
       "      <th>lightthirtyDayAvgMinutes</th>\n",
       "      <th>remcount</th>\n",
       "      <th>remminutes</th>\n",
       "      <th>remthirtyDayAvgMinutes</th>\n",
       "    </tr>\n",
       "  </thead>\n",
       "  <tbody>\n",
       "    <tr>\n",
       "      <th>0</th>\n",
       "      <td>False</td>\n",
       "      <td>22.411475</td>\n",
       "      <td>2.320190e+07</td>\n",
       "      <td>93.408197</td>\n",
       "      <td>0.395082</td>\n",
       "      <td>335.873770</td>\n",
       "      <td>49.359016</td>\n",
       "      <td>0.655738</td>\n",
       "      <td>386.698361</td>\n",
       "      <td>2.719672</td>\n",
       "      <td>...</td>\n",
       "      <td>43.740984</td>\n",
       "      <td>19.740984</td>\n",
       "      <td>45.568852</td>\n",
       "      <td>43.526230</td>\n",
       "      <td>18.460656</td>\n",
       "      <td>173.465574</td>\n",
       "      <td>167.347541</td>\n",
       "      <td>6.690164</td>\n",
       "      <td>64.116393</td>\n",
       "      <td>61.537705</td>\n",
       "    </tr>\n",
       "    <tr>\n",
       "      <th>1</th>\n",
       "      <td>True</td>\n",
       "      <td>84.270455</td>\n",
       "      <td>2.456182e+07</td>\n",
       "      <td>93.709091</td>\n",
       "      <td>0.493182</td>\n",
       "      <td>361.654545</td>\n",
       "      <td>46.688636</td>\n",
       "      <td>0.368182</td>\n",
       "      <td>409.363636</td>\n",
       "      <td>2.293182</td>\n",
       "      <td>...</td>\n",
       "      <td>36.825000</td>\n",
       "      <td>16.361364</td>\n",
       "      <td>37.938636</td>\n",
       "      <td>36.720455</td>\n",
       "      <td>15.286364</td>\n",
       "      <td>146.375000</td>\n",
       "      <td>141.577273</td>\n",
       "      <td>5.536364</td>\n",
       "      <td>55.061364</td>\n",
       "      <td>52.661364</td>\n",
       "    </tr>\n",
       "  </tbody>\n",
       "</table>\n",
       "<p>2 rows × 21 columns</p>\n",
       "</div>"
      ],
      "text/plain": [
       "   greater than avg  very active min      duration  efficiency  \\\n",
       "0             False        22.411475  2.320190e+07   93.408197   \n",
       "1              True        84.270455  2.456182e+07   93.709091   \n",
       "\n",
       "   minutesAfterWakeup  minutesAsleep  minutesAwake  minutesToFallAsleep  \\\n",
       "0            0.395082     335.873770     49.359016             0.655738   \n",
       "1            0.493182     361.654545     46.688636             0.368182   \n",
       "\n",
       "    timeInBed  deepcount           ...            deepthirtyDayAvgMinutes  \\\n",
       "0  386.698361   2.719672           ...                          43.740984   \n",
       "1  409.363636   2.293182           ...                          36.825000   \n",
       "\n",
       "   wakecount  wakeminutes  wakethirtyDayAvgMinutes  lightcount  lightminutes  \\\n",
       "0  19.740984    45.568852                43.526230   18.460656    173.465574   \n",
       "1  16.361364    37.938636                36.720455   15.286364    146.375000   \n",
       "\n",
       "   lightthirtyDayAvgMinutes  remcount  remminutes  remthirtyDayAvgMinutes  \n",
       "0                167.347541  6.690164   64.116393               61.537705  \n",
       "1                141.577273  5.536364   55.061364               52.661364  \n",
       "\n",
       "[2 rows x 21 columns]"
      ]
     },
     "execution_count": 88,
     "metadata": {},
     "output_type": "execute_result"
    }
   ],
   "source": [
    "#Difference in quality of sleep between exercise days and non-exercise days.\n",
    "new = new.groupby(\"greater than avg\").mean().reset_index()\n",
    "new"
   ]
  },
  {
   "cell_type": "markdown",
   "metadata": {},
   "source": [
    "#### Distribution of Sleep"
   ]
  },
  {
   "cell_type": "markdown",
   "metadata": {},
   "source": [
    "This function shows the distribution of each kind of sleep -- light, deep, and REM."
   ]
  },
  {
   "cell_type": "code",
   "execution_count": 9,
   "metadata": {},
   "outputs": [],
   "source": [
    "def hist_sleep(df):\n",
    "    plt.figure(figsize=(10,6))\n",
    "    sns.distplot(df['lightminutes'], label = 'Light', kde_kws={'clip': (0.0, 500)})\n",
    "    sns.distplot(df['deepminutes'], label = 'Deep', kde_kws={'clip': (0.0, 500)})\n",
    "    sns.distplot(df['remminutes'], label = 'REM', kde_kws={'clip': (0.0, 500)})\n",
    "    plt.xlabel('Minutes of Sleep')\n",
    "    plt.ylabel('Proportion')\n",
    "    plt.title('Distribution of Sleep')\n",
    "    plt.legend()\n",
    "    plt.show()\n",
    "    print('You get the most \"light\" sleep each night! Averaging 250 minutes per night.')\n",
    "    print('You get the least \"deep\" sleep each night! Averaging 70 minutes per night.')\n",
    "    print('On average you get about 100 minutes of \"REM\" sleep each night!')\n",
    "    \n",
    "    "
   ]
  },
  {
   "cell_type": "code",
   "execution_count": 10,
   "metadata": {},
   "outputs": [
    {
     "data": {
      "image/png": "[encoded data removed]",
      "text/plain": [
       "<Figure size 720x432 with 1 Axes>"
      ]
     },
     "metadata": {
      "needs_background": "light"
     },
     "output_type": "display_data"
    },
    {
     "name": "stdout",
     "output_type": "stream",
     "text": [
      "You get the most \"light\" sleep each night! Averaging 250 minutes per night.\n",
      "You get the least \"deep\" sleep each night! Averaging 70 minutes per night.\n",
      "On average you get about 100 minutes of \"REM\" sleep each night!\n"
     ]
    }
   ],
   "source": [
    "hist_sleep(sleep)"
   ]
  },
  {
   "cell_type": "code",
   "execution_count": 89,
   "metadata": {},
   "outputs": [],
   "source": [
    "def sleep_min(df):\n",
    "    plt.figure(figsize=(10,8))\n",
    "    sns.scatterplot(x = 'lightminutes', y = 'timeInBed', data = df, label = 'Light Minutes')\n",
    "    sns.scatterplot(x = 'remminutes', y = 'timeInBed', data = df, label = 'Rem Minutes')\n",
    "    sns.scatterplot(x = 'minutesAsleep', y = 'timeInBed', data = df, label = 'Minutes Asleep')\n",
    "    sns.scatterplot(x = 'deepminutes', y = 'timeInBed', data = df, label = 'Deep Minutes')\n",
    "    plt.title('Type of Sleep (minutes) vs. Time in Bed')\n",
    "    plt.xlabel('Minutes')\n",
    "    plt.ylabel('Time in Bed (minutes)')\n",
    "    print()"
   ]
  },
  {
   "cell_type": "code",
   "execution_count": 90,
   "metadata": {},
   "outputs": [
    {
     "name": "stdout",
     "output_type": "stream",
     "text": [
      "\n"
     ]
    },
    {
     "data": {
      "image/png": "[encoded data removed]",
      "text/plain": [
       "<Figure size 720x576 with 1 Axes>"
      ]
     },
     "metadata": {},
     "output_type": "display_data"
    }
   ],
   "source": [
    "sleep_min(sleep)"
   ]
  },
  {
   "cell_type": "code",
   "execution_count": 93,
   "metadata": {},
   "outputs": [
    {
     "data": {
      "image/png": "[encoded data removed]",
      "text/plain": [
       "<Figure size 432x288 with 1 Axes>"
      ]
     },
     "metadata": {},
     "output_type": "display_data"
    }
   ],
   "source": [
    "# create a datetime object in sleep in order to merge with distance traveled \n",
    "def create_datetime_sleep(df_sleep):\n",
    "    df_sleep['datetime'] = [datetime.date(int(x[0:4]), int(x[5:7]), int(x[8:10])) for x in df_sleep['dateOfSleep']]\n",
    "create_datetime_sleep(sleep)\n",
    "\n",
    "#merge sleep and distance traveled graphs\n",
    "def create_inner_merge(df1, df2):\n",
    "    return pd.concat([df1, df2], axis=1, join='inner')\n",
    "merged_distance_sleep = create_inner_merge(sleep, dist)\n",
    "def create_sleepdistance_scatterplot(inputdata):\n",
    "    sns.scatterplot(y='efficiency', x='distance traveled', data=inputdata)\n",
    "create_sleepdistance_scatterplot(merged_distance_sleep)\n"
   ]
  },
  {
   "cell_type": "code",
   "execution_count": null,
   "metadata": {},
   "outputs": [],
   "source": []
  }
 ],
 "metadata": {
  "kernelspec": {
   "display_name": "Python 3",
   "language": "python",
   "name": "python3"
  },
  "language_info": {
   "codemirror_mode": {
    "name": "ipython",
    "version": 3
   },
   "file_extension": ".py",
   "mimetype": "text/x-python",
   "name": "python",
   "nbconvert_exporter": "python",
   "pygments_lexer": "ipython3",
   "version": "3.6.7"
  }
 },
 "nbformat": 4,
 "nbformat_minor": 2
}
